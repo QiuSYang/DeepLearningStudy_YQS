{
 "cells": [
  {
   "cell_type": "markdown",
   "metadata": {},
   "source": [
    "# 使用word2vec进行向量化构建一个简单的推荐系统"
   ]
  },
  {
   "cell_type": "markdown",
   "metadata": {},
   "source": [
    "向量化使用的NLP库为gensim"
   ]
  },
  {
   "cell_type": "code",
   "execution_count": 1,
   "metadata": {},
   "outputs": [],
   "source": [
    "import pandas as pd\n",
    "import numpy as np\n",
    "import random\n",
    "from tqdm import tqdm\n",
    "from gensim.models import Word2Vec \n",
    "import matplotlib.pyplot as plt\n",
    "%matplotlib inline\n",
    "\n",
    "import warnings;\n",
    "warnings.filterwarnings('ignore')"
   ]
  },
  {
   "cell_type": "code",
   "execution_count": 2,
   "metadata": {},
   "outputs": [
    {
     "name": "stdout",
     "output_type": "stream",
     "text": [
      "Looking in indexes: https://pypi.doubanio.com/simple\n",
      "Requirement already satisfied: pandas in c:\\users\\yckj2453\\.conda\\envs\\tf2\\lib\\site-packages (1.1.3)\n",
      "Requirement already satisfied: numpy>=1.15.4 in c:\\users\\yckj2453\\.conda\\envs\\tf2\\lib\\site-packages (from pandas) (1.19.2)\n",
      "Requirement already satisfied: pytz>=2017.2 in c:\\users\\yckj2453\\.conda\\envs\\tf2\\lib\\site-packages (from pandas) (2020.1)\n",
      "Requirement already satisfied: python-dateutil>=2.7.3 in c:\\users\\yckj2453\\.conda\\envs\\tf2\\lib\\site-packages (from pandas) (2.8.1)\n",
      "Requirement already satisfied: six>=1.5 in c:\\users\\yckj2453\\.conda\\envs\\tf2\\lib\\site-packages (from python-dateutil>=2.7.3->pandas) (1.13.0)\n",
      "Looking in indexes: https://pypi.doubanio.com/simple\n",
      "Requirement already satisfied: gensim in c:\\users\\yckj2453\\.conda\\envs\\tf2\\lib\\site-packages (3.8.3)\n",
      "Requirement already satisfied: six>=1.5.0 in c:\\users\\yckj2453\\.conda\\envs\\tf2\\lib\\site-packages (from gensim) (1.13.0)\n",
      "Requirement already satisfied: smart-open>=1.8.1 in c:\\users\\yckj2453\\.conda\\envs\\tf2\\lib\\site-packages (from gensim) (3.0.0)\n",
      "Requirement already satisfied: Cython==0.29.14 in c:\\users\\yckj2453\\.conda\\envs\\tf2\\lib\\site-packages (from gensim) (0.29.14)\n",
      "Requirement already satisfied: numpy>=1.11.3 in c:\\users\\yckj2453\\.conda\\envs\\tf2\\lib\\site-packages (from gensim) (1.19.2)\n",
      "Requirement already satisfied: scipy>=0.18.1 in c:\\users\\yckj2453\\.conda\\envs\\tf2\\lib\\site-packages (from gensim) (1.4.1)\n",
      "Requirement already satisfied: requests in c:\\users\\yckj2453\\.conda\\envs\\tf2\\lib\\site-packages (from smart-open>=1.8.1->gensim) (2.22.0)\n",
      "Requirement already satisfied: idna<2.9,>=2.5 in c:\\users\\yckj2453\\.conda\\envs\\tf2\\lib\\site-packages (from requests->smart-open>=1.8.1->gensim) (2.8)\n",
      "Requirement already satisfied: certifi>=2017.4.17 in c:\\users\\yckj2453\\.conda\\envs\\tf2\\lib\\site-packages (from requests->smart-open>=1.8.1->gensim) (2019.9.11)\n",
      "Requirement already satisfied: urllib3!=1.25.0,!=1.25.1,<1.26,>=1.21.1 in c:\\users\\yckj2453\\.conda\\envs\\tf2\\lib\\site-packages (from requests->smart-open>=1.8.1->gensim) (1.25.7)\n",
      "Requirement already satisfied: chardet<3.1.0,>=3.0.2 in c:\\users\\yckj2453\\.conda\\envs\\tf2\\lib\\site-packages (from requests->smart-open>=1.8.1->gensim) (3.0.4)\n"
     ]
    }
   ],
   "source": [
    "!pip install pandas -i https://pypi.doubanio.com/simple\n",
    "!pip install gensim -i https://pypi.doubanio.com/simple"
   ]
  },
  {
   "cell_type": "markdown",
   "metadata": {},
   "source": [
    "Load data"
   ]
  },
  {
   "cell_type": "code",
   "execution_count": 3,
   "metadata": {},
   "outputs": [
    {
     "name": "stdout",
     "output_type": "stream",
     "text": [
      "Requirement already satisfied: xlrd in c:\\users\\yckj2453\\.conda\\envs\\tf2\\lib\\site-packages (1.2.0)\n"
     ]
    }
   ],
   "source": [
    "!pip install xlrd "
   ]
  },
  {
   "cell_type": "code",
   "execution_count": 4,
   "metadata": {},
   "outputs": [
    {
     "data": {
      "text/html": [
       "<div>\n",
       "<style scoped>\n",
       "    .dataframe tbody tr th:only-of-type {\n",
       "        vertical-align: middle;\n",
       "    }\n",
       "\n",
       "    .dataframe tbody tr th {\n",
       "        vertical-align: top;\n",
       "    }\n",
       "\n",
       "    .dataframe thead th {\n",
       "        text-align: right;\n",
       "    }\n",
       "</style>\n",
       "<table border=\"1\" class=\"dataframe\">\n",
       "  <thead>\n",
       "    <tr style=\"text-align: right;\">\n",
       "      <th></th>\n",
       "      <th>InvoiceNo</th>\n",
       "      <th>StockCode</th>\n",
       "      <th>Description</th>\n",
       "      <th>Quantity</th>\n",
       "      <th>InvoiceDate</th>\n",
       "      <th>UnitPrice</th>\n",
       "      <th>CustomerID</th>\n",
       "      <th>Country</th>\n",
       "    </tr>\n",
       "  </thead>\n",
       "  <tbody>\n",
       "    <tr>\n",
       "      <th>0</th>\n",
       "      <td>536365</td>\n",
       "      <td>85123A</td>\n",
       "      <td>WHITE HANGING HEART T-LIGHT HOLDER</td>\n",
       "      <td>6</td>\n",
       "      <td>2010-12-01 08:26:00</td>\n",
       "      <td>2.55</td>\n",
       "      <td>17850.0</td>\n",
       "      <td>United Kingdom</td>\n",
       "    </tr>\n",
       "    <tr>\n",
       "      <th>1</th>\n",
       "      <td>536365</td>\n",
       "      <td>71053</td>\n",
       "      <td>WHITE METAL LANTERN</td>\n",
       "      <td>6</td>\n",
       "      <td>2010-12-01 08:26:00</td>\n",
       "      <td>3.39</td>\n",
       "      <td>17850.0</td>\n",
       "      <td>United Kingdom</td>\n",
       "    </tr>\n",
       "    <tr>\n",
       "      <th>2</th>\n",
       "      <td>536365</td>\n",
       "      <td>84406B</td>\n",
       "      <td>CREAM CUPID HEARTS COAT HANGER</td>\n",
       "      <td>8</td>\n",
       "      <td>2010-12-01 08:26:00</td>\n",
       "      <td>2.75</td>\n",
       "      <td>17850.0</td>\n",
       "      <td>United Kingdom</td>\n",
       "    </tr>\n",
       "    <tr>\n",
       "      <th>3</th>\n",
       "      <td>536365</td>\n",
       "      <td>84029G</td>\n",
       "      <td>KNITTED UNION FLAG HOT WATER BOTTLE</td>\n",
       "      <td>6</td>\n",
       "      <td>2010-12-01 08:26:00</td>\n",
       "      <td>3.39</td>\n",
       "      <td>17850.0</td>\n",
       "      <td>United Kingdom</td>\n",
       "    </tr>\n",
       "    <tr>\n",
       "      <th>4</th>\n",
       "      <td>536365</td>\n",
       "      <td>84029E</td>\n",
       "      <td>RED WOOLLY HOTTIE WHITE HEART.</td>\n",
       "      <td>6</td>\n",
       "      <td>2010-12-01 08:26:00</td>\n",
       "      <td>3.39</td>\n",
       "      <td>17850.0</td>\n",
       "      <td>United Kingdom</td>\n",
       "    </tr>\n",
       "  </tbody>\n",
       "</table>\n",
       "</div>"
      ],
      "text/plain": [
       "  InvoiceNo StockCode                          Description  Quantity  \\\n",
       "0    536365    85123A   WHITE HANGING HEART T-LIGHT HOLDER         6   \n",
       "1    536365     71053                  WHITE METAL LANTERN         6   \n",
       "2    536365    84406B       CREAM CUPID HEARTS COAT HANGER         8   \n",
       "3    536365    84029G  KNITTED UNION FLAG HOT WATER BOTTLE         6   \n",
       "4    536365    84029E       RED WOOLLY HOTTIE WHITE HEART.         6   \n",
       "\n",
       "          InvoiceDate  UnitPrice  CustomerID         Country  \n",
       "0 2010-12-01 08:26:00       2.55     17850.0  United Kingdom  \n",
       "1 2010-12-01 08:26:00       3.39     17850.0  United Kingdom  \n",
       "2 2010-12-01 08:26:00       2.75     17850.0  United Kingdom  \n",
       "3 2010-12-01 08:26:00       3.39     17850.0  United Kingdom  \n",
       "4 2010-12-01 08:26:00       3.39     17850.0  United Kingdom  "
      ]
     },
     "execution_count": 4,
     "metadata": {},
     "output_type": "execute_result"
    }
   ],
   "source": [
    "df = pd.read_excel('Online Retail.xlsx')\n",
    "df.head()"
   ]
  },
  {
   "cell_type": "markdown",
   "metadata": {},
   "source": [
    "以下是对于该数据集某些领域的描述：\n",
    "\n",
    "1. InvoiceNo: 发票号码，每次交易对应的唯一数字\n",
    "\n",
    "2. StockCode: 产品/物品编码，每一唯一商品对应的唯一数字\n",
    "\n",
    "3. Description：产品描述\n",
    "\n",
    "4. Quantity：每次交易每种产品的数量\n",
    "\n",
    "5. InvoiceDate: 每次交易生成的日期和时间\n",
    "\n",
    "6. CustomerID：顾客ID，每位顾客对应的唯一数字。"
   ]
  },
  {
   "cell_type": "code",
   "execution_count": 5,
   "metadata": {},
   "outputs": [
    {
     "data": {
      "text/plain": [
       "(541909, 8)"
      ]
     },
     "execution_count": 5,
     "metadata": {},
     "output_type": "execute_result"
    }
   ],
   "source": [
    "df.shape"
   ]
  },
  {
   "cell_type": "markdown",
   "metadata": {},
   "source": [
    "该数据集包含541909次交易。这是一个搭建模型的极佳数字。"
   ]
  },
  {
   "cell_type": "markdown",
   "metadata": {},
   "source": [
    "# 处理缺失数据"
   ]
  },
  {
   "cell_type": "code",
   "execution_count": 6,
   "metadata": {},
   "outputs": [
    {
     "data": {
      "text/plain": [
       "InvoiceNo           0\n",
       "StockCode           0\n",
       "Description      1454\n",
       "Quantity            0\n",
       "InvoiceDate         0\n",
       "UnitPrice           0\n",
       "CustomerID     135080\n",
       "Country             0\n",
       "dtype: int64"
      ]
     },
     "execution_count": 6,
     "metadata": {},
     "output_type": "execute_result"
    }
   ],
   "source": [
    "# check for missing values\n",
    "df.isnull().sum()"
   ]
  },
  {
   "cell_type": "code",
   "execution_count": 7,
   "metadata": {},
   "outputs": [],
   "source": [
    "# remove missing values \n",
    "df.dropna(inplace=True)"
   ]
  },
  {
   "cell_type": "markdown",
   "metadata": {},
   "source": [
    "将产品编码转换为线性数据："
   ]
  },
  {
   "cell_type": "code",
   "execution_count": 8,
   "metadata": {},
   "outputs": [],
   "source": [
    "df['StockCode'] = df['StockCode'].astype(str)"
   ]
  },
  {
   "cell_type": "markdown",
   "metadata": {},
   "source": [
    "查看数据集中唯一顾客的数量："
   ]
  },
  {
   "cell_type": "code",
   "execution_count": 9,
   "metadata": {},
   "outputs": [
    {
     "data": {
      "text/plain": [
       "4372"
      ]
     },
     "execution_count": 9,
     "metadata": {},
     "output_type": "execute_result"
    }
   ],
   "source": [
    "customers = df[\"CustomerID\"].unique().tolist()\n",
    "len(customers)"
   ]
  },
  {
   "cell_type": "markdown",
   "metadata": {},
   "source": [
    "数据集中有4372个顾客。对于每一个顾客，提取其购买历史。换句话说，有4372个购买顺序"
   ]
  },
  {
   "cell_type": "code",
   "execution_count": null,
   "metadata": {},
   "outputs": [],
   "source": []
  },
  {
   "cell_type": "markdown",
   "metadata": {},
   "source": [
    "从数据集中保留一小部分用以验证是很好的做法。因此，将使用90%的顾客数据创建word2vec嵌入。将数据分割"
   ]
  },
  {
   "cell_type": "code",
   "execution_count": 10,
   "metadata": {},
   "outputs": [],
   "source": [
    "# shuffle customer ID's\n",
    "random.shuffle(customers)\n",
    "\n",
    "# extract 90% of customer ID's\n",
    "customers_train = [customers[i] for i in range(round(0.9*len(customers)))]\n",
    "\n",
    "# split data into train and validation set\n",
    "train_df = df[df['CustomerID'].isin(customers_train)]\n",
    "validation_df = df[~df['CustomerID'].isin(customers_train)]"
   ]
  },
  {
   "cell_type": "code",
   "execution_count": 11,
   "metadata": {},
   "outputs": [
    {
     "data": {
      "text/html": [
       "<div>\n",
       "<style scoped>\n",
       "    .dataframe tbody tr th:only-of-type {\n",
       "        vertical-align: middle;\n",
       "    }\n",
       "\n",
       "    .dataframe tbody tr th {\n",
       "        vertical-align: top;\n",
       "    }\n",
       "\n",
       "    .dataframe thead th {\n",
       "        text-align: right;\n",
       "    }\n",
       "</style>\n",
       "<table border=\"1\" class=\"dataframe\">\n",
       "  <thead>\n",
       "    <tr style=\"text-align: right;\">\n",
       "      <th></th>\n",
       "      <th>InvoiceNo</th>\n",
       "      <th>StockCode</th>\n",
       "      <th>Description</th>\n",
       "      <th>Quantity</th>\n",
       "      <th>InvoiceDate</th>\n",
       "      <th>UnitPrice</th>\n",
       "      <th>CustomerID</th>\n",
       "      <th>Country</th>\n",
       "    </tr>\n",
       "  </thead>\n",
       "  <tbody>\n",
       "    <tr>\n",
       "      <th>0</th>\n",
       "      <td>536365</td>\n",
       "      <td>85123A</td>\n",
       "      <td>WHITE HANGING HEART T-LIGHT HOLDER</td>\n",
       "      <td>6</td>\n",
       "      <td>2010-12-01 08:26:00</td>\n",
       "      <td>2.55</td>\n",
       "      <td>17850.0</td>\n",
       "      <td>United Kingdom</td>\n",
       "    </tr>\n",
       "    <tr>\n",
       "      <th>1</th>\n",
       "      <td>536365</td>\n",
       "      <td>71053</td>\n",
       "      <td>WHITE METAL LANTERN</td>\n",
       "      <td>6</td>\n",
       "      <td>2010-12-01 08:26:00</td>\n",
       "      <td>3.39</td>\n",
       "      <td>17850.0</td>\n",
       "      <td>United Kingdom</td>\n",
       "    </tr>\n",
       "    <tr>\n",
       "      <th>2</th>\n",
       "      <td>536365</td>\n",
       "      <td>84406B</td>\n",
       "      <td>CREAM CUPID HEARTS COAT HANGER</td>\n",
       "      <td>8</td>\n",
       "      <td>2010-12-01 08:26:00</td>\n",
       "      <td>2.75</td>\n",
       "      <td>17850.0</td>\n",
       "      <td>United Kingdom</td>\n",
       "    </tr>\n",
       "    <tr>\n",
       "      <th>3</th>\n",
       "      <td>536365</td>\n",
       "      <td>84029G</td>\n",
       "      <td>KNITTED UNION FLAG HOT WATER BOTTLE</td>\n",
       "      <td>6</td>\n",
       "      <td>2010-12-01 08:26:00</td>\n",
       "      <td>3.39</td>\n",
       "      <td>17850.0</td>\n",
       "      <td>United Kingdom</td>\n",
       "    </tr>\n",
       "    <tr>\n",
       "      <th>4</th>\n",
       "      <td>536365</td>\n",
       "      <td>84029E</td>\n",
       "      <td>RED WOOLLY HOTTIE WHITE HEART.</td>\n",
       "      <td>6</td>\n",
       "      <td>2010-12-01 08:26:00</td>\n",
       "      <td>3.39</td>\n",
       "      <td>17850.0</td>\n",
       "      <td>United Kingdom</td>\n",
       "    </tr>\n",
       "  </tbody>\n",
       "</table>\n",
       "</div>"
      ],
      "text/plain": [
       "  InvoiceNo StockCode                          Description  Quantity  \\\n",
       "0    536365    85123A   WHITE HANGING HEART T-LIGHT HOLDER         6   \n",
       "1    536365     71053                  WHITE METAL LANTERN         6   \n",
       "2    536365    84406B       CREAM CUPID HEARTS COAT HANGER         8   \n",
       "3    536365    84029G  KNITTED UNION FLAG HOT WATER BOTTLE         6   \n",
       "4    536365    84029E       RED WOOLLY HOTTIE WHITE HEART.         6   \n",
       "\n",
       "          InvoiceDate  UnitPrice  CustomerID         Country  \n",
       "0 2010-12-01 08:26:00       2.55     17850.0  United Kingdom  \n",
       "1 2010-12-01 08:26:00       3.39     17850.0  United Kingdom  \n",
       "2 2010-12-01 08:26:00       2.75     17850.0  United Kingdom  \n",
       "3 2010-12-01 08:26:00       3.39     17850.0  United Kingdom  \n",
       "4 2010-12-01 08:26:00       3.39     17850.0  United Kingdom  "
      ]
     },
     "execution_count": 11,
     "metadata": {},
     "output_type": "execute_result"
    }
   ],
   "source": [
    "train_df.head()"
   ]
  },
  {
   "cell_type": "markdown",
   "metadata": {},
   "source": [
    "将对于数据集中的顾客创建购买顺序，兼顾训练和验证的目的。"
   ]
  },
  {
   "cell_type": "code",
   "execution_count": 12,
   "metadata": {},
   "outputs": [
    {
     "name": "stderr",
     "output_type": "stream",
     "text": [
      "100%|████████████████████████████████████████████████████████████████████████████| 3935/3935 [00:03<00:00, 1204.60it/s]\n"
     ]
    }
   ],
   "source": [
    "# list to capture purchase history of the customers\n",
    "purchases_train = []\n",
    "\n",
    "# populate the list with the product codes\n",
    "for i in tqdm(customers_train):\n",
    "    # print(train_df[\"CustomerID\"] == i)\n",
    "    # 相当于将同一个顾客购买商品放在一个列表之中\n",
    "    temp = train_df[train_df[\"CustomerID\"] == i][\"StockCode\"].tolist()\n",
    "    # print(temp)\n",
    "    purchases_train.append(temp)"
   ]
  },
  {
   "cell_type": "code",
   "execution_count": 13,
   "metadata": {},
   "outputs": [
    {
     "name": "stderr",
     "output_type": "stream",
     "text": [
      "100%|██████████████████████████████████████████████████████████████████████████████| 437/437 [00:00<00:00, 1565.53it/s]\n"
     ]
    }
   ],
   "source": [
    "# list to capture purchase history of the customers\n",
    "purchases_val = []\n",
    "\n",
    "# populate the list with the product codes\n",
    "for i in tqdm(validation_df['CustomerID'].unique()):\n",
    "    temp = validation_df[validation_df[\"CustomerID\"] == i][\"StockCode\"].tolist()\n",
    "    purchases_val.append(temp)"
   ]
  },
  {
   "cell_type": "code",
   "execution_count": 14,
   "metadata": {},
   "outputs": [],
   "source": [
    "Word2Vec?"
   ]
  },
  {
   "cell_type": "markdown",
   "metadata": {},
   "source": [
    "# 为产品创建word2vec词嵌入, 使用的StockCode字段数据构建词汇表"
   ]
  },
  {
   "cell_type": "markdown",
   "metadata": {},
   "source": [
    "将商品的ID作为token进行训练，同一个用户的商品ID列表作为一组训练数据，列表元素之前存在某种相关性"
   ]
  },
  {
   "cell_type": "code",
   "execution_count": 15,
   "metadata": {},
   "outputs": [
    {
     "data": {
      "text/plain": [
       "(3519266, 3557320)"
      ]
     },
     "execution_count": 15,
     "metadata": {},
     "output_type": "execute_result"
    }
   ],
   "source": [
    "# train word2vec model\n",
    "model = Word2Vec(window = 10, sg = 1, hs = 0,\n",
    "                 negative = 10, # for negative sampling\n",
    "                 alpha=0.03, min_alpha=0.0007,\n",
    "                 seed = 14)\n",
    "\n",
    "model.build_vocab(purchases_train, progress_per=200)\n",
    "\n",
    "model.train(purchases_train, total_examples = model.corpus_count, \n",
    "            epochs=10, report_delay=1)"
   ]
  },
  {
   "cell_type": "code",
   "execution_count": 16,
   "metadata": {},
   "outputs": [],
   "source": [
    "# save word2vec model\n",
    "model.save(\"word2vec_2.model\")"
   ]
  },
  {
   "cell_type": "markdown",
   "metadata": {},
   "source": [
    "As we do not plan to train the model any further, we are calling init_sims(), which will make the model much more memory-efficient."
   ]
  },
  {
   "cell_type": "code",
   "execution_count": 17,
   "metadata": {},
   "outputs": [],
   "source": [
    "model.init_sims(replace=True)"
   ]
  },
  {
   "cell_type": "code",
   "execution_count": 18,
   "metadata": {},
   "outputs": [
    {
     "name": "stdout",
     "output_type": "stream",
     "text": [
      "Word2Vec(vocab=3150, size=100, alpha=0.03)\n"
     ]
    }
   ],
   "source": [
    "print(model)"
   ]
  },
  {
   "cell_type": "code",
   "execution_count": 19,
   "metadata": {},
   "outputs": [],
   "source": [
    "model.wv?"
   ]
  },
  {
   "cell_type": "markdown",
   "metadata": {},
   "source": [
    "Now we will extract the vectors of all the words in our vocabulary and store it in one place for easy access."
   ]
  },
  {
   "cell_type": "code",
   "execution_count": 20,
   "metadata": {},
   "outputs": [
    {
     "data": {
      "text/plain": [
       "(3150, 100)"
      ]
     },
     "execution_count": 20,
     "metadata": {},
     "output_type": "execute_result"
    }
   ],
   "source": [
    "# extract all vectors\n",
    "X = model[model.wv.vocab]\n",
    "\n",
    "X.shape"
   ]
  },
  {
   "cell_type": "code",
   "execution_count": 21,
   "metadata": {},
   "outputs": [
    {
     "data": {
      "text/plain": [
       "array([[ 1.38713732e-01,  1.87373653e-01,  2.41328537e-01,\n",
       "        -2.30945516e-02,  1.45753950e-01, -4.19913754e-02,\n",
       "         5.85397407e-02,  2.36680433e-02,  1.96122541e-03,\n",
       "         1.28882155e-01,  5.86722344e-02,  2.28341848e-01,\n",
       "         5.51107079e-02, -8.51217285e-02, -1.75958332e-02,\n",
       "        -2.26849560e-02, -1.03627063e-01,  8.78318620e-04,\n",
       "         1.96290761e-01,  6.58299541e-03,  3.00062411e-02,\n",
       "         4.45399620e-02, -5.94693907e-02, -1.67614266e-01,\n",
       "        -2.83069182e-02,  5.31889200e-02, -4.43536881e-03,\n",
       "        -1.50602549e-01,  1.41855612e-01,  1.60041407e-01,\n",
       "         3.63215916e-02, -8.03763270e-02,  9.34386626e-02,\n",
       "        -7.12500662e-02,  5.80868460e-02,  1.16783589e-01,\n",
       "         9.65308771e-02,  1.27562493e-01, -5.46586812e-02,\n",
       "         3.66303325e-03,  1.31852821e-01, -5.20414487e-02,\n",
       "        -8.70864652e-03, -3.39932926e-02, -2.95696594e-02,\n",
       "        -3.77950594e-02, -9.15270746e-02,  9.26550627e-02,\n",
       "        -3.83679122e-02,  1.23159893e-01,  1.13394752e-01,\n",
       "        -7.92463571e-02,  3.59858498e-02,  1.45798670e-02,\n",
       "         8.02525952e-02, -3.18255485e-03,  2.12445483e-01,\n",
       "         7.56093785e-02,  1.02240942e-01,  1.25810280e-01,\n",
       "        -9.02647302e-02, -1.05082028e-01, -8.87228772e-02,\n",
       "         3.49987894e-02,  6.03612885e-02,  8.91824365e-02,\n",
       "        -1.16876245e-01, -5.41449152e-02, -5.92464618e-02,\n",
       "         1.08486541e-01, -2.32602715e-01, -3.64180878e-02,\n",
       "        -1.39033899e-01,  5.35048358e-02,  1.60149276e-01,\n",
       "        -8.24290887e-02, -5.81375919e-02, -9.02776122e-02,\n",
       "         8.14019218e-02,  4.00012173e-02,  7.31324852e-02,\n",
       "         1.19863324e-01,  3.31821553e-02,  1.00362808e-01,\n",
       "        -1.40830696e-01, -1.34299323e-02,  1.36936724e-01,\n",
       "        -9.13251489e-02, -1.04887985e-01, -2.00978577e-01,\n",
       "        -7.86746368e-02,  8.68406892e-03, -2.06171408e-01,\n",
       "         3.15898359e-02,  3.04457638e-03, -5.85398115e-02,\n",
       "        -4.47128601e-02, -4.85362709e-02, -3.54909264e-02,\n",
       "         4.74093072e-02],\n",
       "       [ 7.61593729e-02,  1.58245534e-01,  3.43765207e-02,\n",
       "        -6.66496456e-02,  5.95456026e-02, -5.73108457e-02,\n",
       "         5.21919504e-02, -1.87935188e-01, -4.97311950e-02,\n",
       "         6.89346269e-02, -3.53234112e-02,  4.12189998e-02,\n",
       "        -5.81228994e-02, -9.74833295e-02, -5.96085824e-02,\n",
       "        -8.53693113e-02,  2.88041215e-02,  3.65842655e-02,\n",
       "         6.56638443e-02, -5.47098592e-02,  1.01205871e-01,\n",
       "         9.53225885e-03, -2.06869438e-01, -8.86109024e-02,\n",
       "         1.91810895e-02, -1.53746223e-02,  4.42126282e-02,\n",
       "        -9.54080150e-02,  2.42672518e-01,  6.58255145e-02,\n",
       "         4.77287872e-03, -9.97076035e-02,  1.18193952e-02,\n",
       "        -2.32961774e-02, -3.46964039e-02,  3.19788232e-02,\n",
       "        -3.83810736e-02, -1.14223301e-01,  1.03651583e-01,\n",
       "        -1.19386494e-01, -7.95220807e-02,  6.35671988e-03,\n",
       "         1.19342720e-02, -1.97339691e-02,  1.07558079e-01,\n",
       "         1.09240726e-01, -8.96698460e-02,  1.49238825e-01,\n",
       "         4.70829383e-02,  1.22725256e-01,  1.67242840e-01,\n",
       "        -1.62042871e-01, -6.95369095e-02,  5.97866438e-03,\n",
       "         1.15998872e-01,  1.81693789e-02,  2.04105169e-01,\n",
       "        -1.56855881e-02,  8.51634666e-02,  2.87710220e-01,\n",
       "         7.64795616e-02,  1.50563851e-01, -1.49036553e-02,\n",
       "         1.39464125e-01, -6.12243973e-02,  9.16613117e-02,\n",
       "        -1.49684414e-01, -1.33358398e-02,  4.02474403e-03,\n",
       "         2.59480458e-02, -2.18560502e-01, -1.46509092e-02,\n",
       "         4.09192964e-02,  9.05853957e-02, -5.11438884e-02,\n",
       "         1.22259855e-02, -1.15989178e-01,  8.38621892e-03,\n",
       "        -1.64655030e-01, -7.20636919e-02,  5.89147992e-02,\n",
       "        -3.69122177e-02,  1.11275777e-01,  6.96815923e-02,\n",
       "         9.68442857e-02,  1.54135600e-01,  1.40103102e-01,\n",
       "         1.00492395e-01, -7.00770319e-02, -1.51820049e-01,\n",
       "        -9.61497799e-03,  1.77610099e-01, -6.77746162e-02,\n",
       "        -2.16102675e-02, -1.13807604e-01, -6.16772547e-02,\n",
       "         7.69796669e-02,  9.17228535e-02, -5.05951419e-02,\n",
       "        -1.75808966e-01],\n",
       "       [ 3.99956889e-02,  1.43788561e-01,  1.36533529e-01,\n",
       "        -1.00967072e-01,  9.90859941e-02,  1.66963022e-02,\n",
       "        -8.03889781e-02, -1.45573631e-01,  2.09278055e-03,\n",
       "         4.27934416e-02, -1.06652312e-01, -2.66787689e-02,\n",
       "        -6.78398982e-02,  3.75609882e-02,  8.31965208e-02,\n",
       "        -1.42320931e-01, -3.64518934e-03,  7.43663870e-03,\n",
       "         9.69801471e-02, -5.00759035e-02,  9.90998670e-02,\n",
       "        -8.87542143e-02, -2.98695043e-02, -1.21459581e-01,\n",
       "        -1.56723887e-01,  5.28666265e-02,  2.16546252e-01,\n",
       "        -5.66035695e-02,  1.75211981e-01,  3.04905903e-02,\n",
       "        -1.61254928e-01, -4.15661000e-03,  4.21204418e-02,\n",
       "         7.12359846e-02,  5.83366491e-02, -1.19573623e-02,\n",
       "         5.04222363e-02, -3.12382020e-02, -9.74286273e-02,\n",
       "        -2.59615004e-01,  1.75650902e-02, -8.00368469e-03,\n",
       "         3.77776548e-02, -1.03068434e-01,  5.74689284e-02,\n",
       "         1.51297733e-01, -1.90178975e-01,  7.73324147e-02,\n",
       "         4.26225886e-02,  1.82153955e-01,  3.92394923e-02,\n",
       "        -1.12885110e-01,  4.24476480e-03,  8.96078628e-03,\n",
       "         2.31845658e-02, -6.26853779e-02,  1.14708908e-01,\n",
       "        -6.80915341e-02,  1.27577350e-01, -7.87117183e-02,\n",
       "         3.09242345e-02, -3.34640034e-02, -6.27617091e-02,\n",
       "         2.41503716e-01, -8.97725895e-02,  1.10721923e-01,\n",
       "        -1.30892217e-01,  1.18467864e-02,  4.27059121e-02,\n",
       "        -7.90517703e-02, -1.89032614e-01, -6.87051043e-02,\n",
       "        -6.14394583e-02, -6.69121966e-02,  6.59359619e-02,\n",
       "        -1.85368299e-01, -8.29103217e-02,  6.35073036e-02,\n",
       "        -1.08252257e-01,  2.52577335e-01, -1.31342886e-02,\n",
       "         4.67334427e-02,  1.17418043e-01,  7.09733414e-03,\n",
       "        -8.69050175e-02,  1.02889962e-01, -3.52582000e-02,\n",
       "         4.91629802e-02, -5.52590527e-02, -6.29447028e-02,\n",
       "        -1.37699842e-01,  7.49759674e-02, -1.78539783e-01,\n",
       "        -4.56062285e-03, -6.75391331e-02,  2.61043943e-02,\n",
       "         8.26331377e-02, -4.90467362e-02,  1.03087455e-01,\n",
       "        -8.65245461e-02],\n",
       "       [ 7.94301108e-02,  3.36208288e-03,  1.31411597e-01,\n",
       "        -9.32080224e-02,  2.13453129e-01, -7.64429197e-02,\n",
       "         9.20852423e-02, -1.91683084e-01, -3.18112001e-02,\n",
       "         1.54926598e-01,  2.08863374e-02, -2.98710465e-02,\n",
       "         2.21427660e-02,  4.18609753e-02,  1.17813535e-01,\n",
       "         3.34287137e-02, -1.82063460e-01, -3.02950176e-03,\n",
       "         1.34200558e-01, -1.27699137e-01,  2.26329546e-02,\n",
       "         3.63893136e-02,  4.57051396e-02, -3.20583992e-02,\n",
       "         2.21925303e-02,  1.15283318e-01,  1.54714227e-01,\n",
       "        -5.62610338e-03,  1.12947509e-01, -7.01294187e-03,\n",
       "        -2.57477313e-01, -3.66732664e-02,  1.80607602e-01,\n",
       "        -3.95388380e-02,  2.34022483e-01, -1.56220309e-02,\n",
       "        -2.35440005e-02,  4.27457467e-02,  8.23731646e-02,\n",
       "        -2.19594777e-01, -5.01743667e-02, -1.70645013e-01,\n",
       "        -3.45664248e-02,  7.10729137e-02, -6.37292769e-03,\n",
       "        -8.33075587e-03, -2.15637088e-01,  3.70282419e-02,\n",
       "         1.81343686e-02,  4.86202724e-02, -7.36627057e-02,\n",
       "        -6.71343878e-02, -3.06419712e-02, -8.14609602e-02,\n",
       "         2.24653125e-01,  1.13703161e-01,  6.86512887e-02,\n",
       "        -6.18059933e-02, -3.23256999e-02, -4.36765067e-02,\n",
       "         1.03550687e-01,  2.76510157e-02, -1.05030797e-01,\n",
       "         2.97930483e-02, -3.84146273e-02,  9.76809412e-02,\n",
       "        -1.52018830e-01,  4.42472398e-02, -3.45565118e-02,\n",
       "        -5.36651537e-02, -1.53417930e-01,  1.39598446e-02,\n",
       "        -5.45012690e-02, -5.07520624e-02,  6.65182397e-02,\n",
       "        -1.25840949e-02, -5.80098778e-02,  6.06593117e-02,\n",
       "        -7.99408834e-03,  2.24897444e-01, -1.42094135e-01,\n",
       "         1.14579618e-01,  1.16205111e-01, -4.90996130e-02,\n",
       "        -4.87616360e-02,  2.69414708e-02,  1.50879592e-01,\n",
       "         1.37476340e-01, -4.74168658e-02, -5.64735159e-02,\n",
       "        -1.59814786e-02, -1.41339287e-01, -6.75360262e-02,\n",
       "         3.84672992e-02,  4.95416075e-02, -1.73630286e-02,\n",
       "         2.09926465e-03,  1.54461125e-02, -4.27298322e-02,\n",
       "        -1.53977051e-01],\n",
       "       [ 9.01685283e-03,  8.92216340e-02,  3.60364430e-02,\n",
       "        -1.39194354e-02,  2.90573776e-01, -1.04518205e-01,\n",
       "         2.28391532e-02, -1.14895642e-01,  5.49140573e-02,\n",
       "         1.56214923e-01,  1.61610935e-02, -7.68503249e-02,\n",
       "         1.07750781e-01,  1.28662199e-01,  1.04198359e-01,\n",
       "        -1.11913785e-01, -1.28583089e-01, -4.35843952e-02,\n",
       "        -1.75450761e-02, -9.12884250e-02,  3.87322195e-02,\n",
       "        -7.71129038e-03, -2.17174497e-02, -1.89213771e-02,\n",
       "         7.43360966e-02,  7.76608288e-02,  1.57083854e-01,\n",
       "        -4.98186648e-02,  3.13543640e-02, -3.14218365e-02,\n",
       "        -1.39557764e-01,  1.42458171e-01,  1.72747970e-01,\n",
       "         1.58923697e-02,  3.36192936e-01,  9.75838825e-02,\n",
       "        -1.08235016e-01,  1.72673725e-02,  7.38806203e-02,\n",
       "        -1.71694785e-01, -7.45764598e-02, -5.45524731e-02,\n",
       "        -9.92903933e-02,  1.09597161e-01,  2.58558244e-02,\n",
       "        -5.47236688e-02, -7.99468309e-02,  7.41692912e-03,\n",
       "        -3.77762690e-02,  7.75485709e-02, -3.35573368e-02,\n",
       "        -7.16670826e-02, -1.63673405e-02, -6.33022115e-02,\n",
       "         1.07545108e-01,  2.43036766e-02,  8.73836875e-02,\n",
       "         1.17033325e-01,  4.94906977e-02,  4.14213724e-02,\n",
       "         1.55426875e-01, -5.97285591e-02, -6.00979514e-02,\n",
       "         9.35255066e-02,  3.20058316e-02,  1.07548304e-01,\n",
       "         2.84947548e-02,  2.30622306e-01,  9.11804810e-02,\n",
       "         5.40998392e-02, -2.45475695e-01, -4.49735187e-02,\n",
       "         3.68625000e-02, -6.20198697e-02,  7.26694018e-02,\n",
       "        -1.10590979e-01, -1.23982370e-01, -2.63512097e-02,\n",
       "        -1.98422540e-02,  2.28006989e-01, -1.26662314e-01,\n",
       "         1.20852664e-01,  7.75235593e-02,  4.53262404e-02,\n",
       "        -1.58038195e-02, -7.73514947e-03,  1.48101196e-01,\n",
       "         1.09569952e-02,  9.16308165e-02,  8.19196273e-03,\n",
       "        -1.50049315e-03, -7.05109257e-03, -8.18049982e-02,\n",
       "        -6.68115765e-02,  1.23560503e-02, -3.72569896e-02,\n",
       "         1.21803746e-01, -9.14335996e-02, -1.15268126e-01,\n",
       "        -2.14837622e-02],\n",
       "       [ 1.11514695e-01, -1.11644812e-01,  1.96662590e-01,\n",
       "        -4.13862057e-02,  2.22039372e-01, -3.33758928e-02,\n",
       "         2.37965360e-02,  3.46041955e-02, -1.25752494e-01,\n",
       "         8.38187635e-02, -5.38785905e-02,  6.72118459e-03,\n",
       "        -8.66445303e-02, -2.25405023e-02,  6.48072809e-02,\n",
       "        -3.21403593e-02, -7.93924034e-02, -8.61448199e-02,\n",
       "         4.82775271e-02, -6.10276498e-02,  1.26002565e-01,\n",
       "         1.37321390e-02,  1.19868526e-02, -6.74627647e-02,\n",
       "        -3.28718498e-02,  1.36946008e-01,  9.83029008e-02,\n",
       "         6.09672368e-02,  1.61359757e-01, -5.74417524e-02,\n",
       "        -1.67593062e-01, -4.67448384e-02,  1.97128832e-01,\n",
       "         6.22393228e-02,  2.32958674e-01, -5.61935306e-02,\n",
       "         7.83363134e-02,  1.76274739e-02,  9.80533063e-02,\n",
       "        -2.31292218e-01,  2.78074127e-02, -1.11403866e-02,\n",
       "        -1.57700423e-02, -3.46367173e-02, -8.79989937e-02,\n",
       "         5.25972210e-02, -1.59996703e-01,  1.37875333e-01,\n",
       "         9.85050946e-02,  2.58690417e-01,  4.76274900e-02,\n",
       "        -4.10022885e-02,  3.13107632e-02, -7.41645694e-02,\n",
       "         1.09006688e-01, -1.24885671e-01,  1.02748461e-01,\n",
       "        -9.96455252e-02,  2.02274714e-02,  3.33305076e-02,\n",
       "         2.52357163e-02, -7.83268884e-02, -5.07784411e-02,\n",
       "         1.41743004e-01, -2.32782587e-02,  1.49872288e-01,\n",
       "        -1.38602570e-01, -2.67435927e-02, -4.65958491e-02,\n",
       "        -2.73413826e-02, -1.60027862e-01, -1.07679434e-01,\n",
       "        -7.59685263e-02,  3.60021815e-02,  5.92132211e-02,\n",
       "        -1.20990530e-01, -8.35458413e-02,  6.95661781e-03,\n",
       "        -5.94646223e-02,  2.71117121e-01, -5.45315593e-02,\n",
       "         1.17182352e-01,  1.19125538e-01, -5.75267524e-02,\n",
       "         5.95836304e-02,  1.65649772e-01, -2.58756988e-02,\n",
       "        -2.18988135e-02,  1.54804280e-02, -2.73907185e-02,\n",
       "        -1.22356780e-01,  1.33047462e-01,  2.59856712e-02,\n",
       "        -1.15193725e-01, -1.88559927e-02,  4.24608914e-03,\n",
       "         6.17390126e-02,  5.48631214e-02, -2.25840863e-02,\n",
       "        -5.45640215e-02],\n",
       "       [-7.48559181e-03,  3.55616095e-03, -1.94241181e-01,\n",
       "         8.99174362e-02, -6.64735725e-03, -1.54940374e-02,\n",
       "         1.57027349e-01, -1.45101041e-01,  4.12097424e-02,\n",
       "         2.28806864e-03, -1.01962283e-01, -8.80106166e-02,\n",
       "        -3.39656286e-02, -9.34250206e-02,  1.07383788e-01,\n",
       "        -1.58906281e-02,  8.02055150e-02, -3.92418690e-02,\n",
       "         1.24395892e-01, -3.18298824e-02, -2.15140847e-03,\n",
       "         1.00341409e-01, -1.35767892e-01, -1.45411044e-01,\n",
       "         1.32229775e-01,  1.02314465e-01,  7.48608122e-03,\n",
       "         5.31032309e-02,  1.31176159e-01, -5.01898304e-02,\n",
       "         7.50873424e-03, -1.89085335e-01,  8.66834521e-02,\n",
       "        -2.04439834e-02,  1.36695076e-02, -4.72234190e-02,\n",
       "        -9.21605527e-02, -8.43970925e-02,  4.64762654e-03,\n",
       "        -9.65093225e-02, -1.84548497e-01, -1.60064232e-02,\n",
       "        -7.46955127e-02, -2.41510030e-02,  9.72202048e-03,\n",
       "         5.20408005e-02, -1.27380937e-01,  1.13002658e-01,\n",
       "        -6.49240017e-02,  2.04778776e-01, -9.03210342e-02,\n",
       "        -1.31114826e-01,  2.56164111e-02,  3.56226712e-02,\n",
       "         1.09550819e-01, -9.74373743e-02,  1.61960647e-01,\n",
       "         5.03756553e-02,  7.11318979e-04,  1.53849974e-01,\n",
       "        -3.53486650e-02, -2.95040198e-02, -1.16581574e-01,\n",
       "         1.41300917e-01, -5.43390624e-02,  2.11754769e-01,\n",
       "        -3.76374833e-02, -5.25000580e-02, -1.00844055e-01,\n",
       "        -2.63012145e-02, -2.38899499e-01, -1.07463412e-01,\n",
       "        -2.88052484e-02,  6.62390739e-02,  4.89812121e-02,\n",
       "        -6.35076240e-02, -1.66760787e-01, -4.35751937e-02,\n",
       "         3.73713784e-02,  7.64372945e-03, -6.42936677e-02,\n",
       "         4.04561907e-02, -6.75337762e-02, -9.56751581e-04,\n",
       "         6.14996105e-02,  2.49880388e-01,  9.16342810e-02,\n",
       "        -6.41185865e-02, -5.08637019e-02, -8.51433203e-02,\n",
       "        -1.08875200e-01, -1.51269987e-01, -3.84241156e-02,\n",
       "        -6.27281964e-02, -7.45154023e-02,  1.50024518e-01,\n",
       "        -7.30067417e-02,  5.29928021e-02, -1.98629588e-01,\n",
       "        -1.62979051e-01],\n",
       "       [ 1.20405070e-01,  2.02377677e-01,  4.80331481e-02,\n",
       "        -2.83081941e-02,  1.98903486e-01, -7.64281452e-02,\n",
       "         1.17403064e-02, -1.14519492e-01,  2.22791880e-02,\n",
       "         1.98913351e-01,  9.30529535e-02, -1.79467611e-02,\n",
       "         1.36729270e-01, -9.57290921e-03,  9.42343026e-02,\n",
       "        -7.62472451e-02, -6.16279058e-02, -3.46342772e-02,\n",
       "        -4.70620990e-02, -2.43757702e-02, -4.97773895e-03,\n",
       "         7.61156380e-02, -1.01611130e-02, -7.77838379e-02,\n",
       "        -9.48882848e-02,  9.15592462e-02,  2.75203958e-02,\n",
       "         6.28315136e-02,  9.35869813e-02, -9.55445841e-02,\n",
       "        -5.65037355e-02,  4.11492251e-02, -8.79665390e-02,\n",
       "        -9.39679742e-02,  2.17930794e-01,  5.17476760e-02,\n",
       "         5.34315072e-02, -2.06305459e-01,  5.14402166e-02,\n",
       "        -9.95456278e-02, -4.68958952e-02,  1.16123885e-01,\n",
       "         5.43541275e-02, -2.17091162e-02,  2.00883150e-02,\n",
       "        -7.52880424e-03,  1.32384039e-02,  6.53286353e-02,\n",
       "        -1.12686483e-02,  1.77198097e-01,  8.50798097e-03,\n",
       "        -5.74130863e-02, -4.32493389e-02,  9.97783616e-02,\n",
       "         4.24895994e-02, -9.43292922e-04,  1.68398112e-01,\n",
       "        -5.92116825e-02,  1.05749771e-01,  1.58189923e-01,\n",
       "        -9.05106962e-02, -1.20011978e-01, -1.23537168e-01,\n",
       "         1.13127574e-01,  1.00266807e-01,  1.67482659e-01,\n",
       "         4.53390926e-02,  3.16242762e-02, -1.07285611e-01,\n",
       "         1.50386626e-02, -2.64970928e-01, -7.34632195e-04,\n",
       "        -4.11881693e-03,  7.91491717e-02, -7.63463825e-02,\n",
       "        -5.29604554e-02, -1.13733560e-01, -3.69125418e-02,\n",
       "        -1.51765779e-01,  5.71502224e-02,  9.62356701e-02,\n",
       "         4.20330614e-02,  1.44397050e-01, -1.51436076e-01,\n",
       "        -5.43831028e-02,  3.15678082e-02,  1.13307752e-01,\n",
       "         2.54812371e-02,  7.87388235e-02, -1.11358911e-01,\n",
       "        -9.92263332e-02,  1.92683965e-01, -1.46150440e-01,\n",
       "        -9.62565001e-03, -2.81090103e-03, -1.22334093e-01,\n",
       "         7.85277411e-02,  1.38191655e-01, -6.37475550e-02,\n",
       "        -1.93485945e-01],\n",
       "       [ 1.49566621e-01,  1.87427521e-01,  6.41643256e-02,\n",
       "        -6.66362839e-03,  1.74456418e-01, -1.35308012e-01,\n",
       "         8.32715929e-02, -1.26442775e-01, -6.24213042e-03,\n",
       "         1.15037382e-01,  5.05709313e-02,  1.20406905e-02,\n",
       "         8.84150118e-02,  6.88729212e-02,  2.95396782e-02,\n",
       "        -1.18153237e-01, -7.50430897e-02,  1.86820440e-02,\n",
       "        -6.50216788e-02, -3.67443822e-02, -3.77105884e-02,\n",
       "         4.79211658e-02, -2.54452974e-02, -7.96879008e-02,\n",
       "        -4.77330871e-02, -4.47578568e-05,  1.32599577e-01,\n",
       "         3.51591222e-02,  1.97259858e-01, -9.93889570e-02,\n",
       "         9.61766765e-02,  4.39636372e-02,  5.97897172e-02,\n",
       "        -4.61563393e-02,  7.49393851e-02,  9.17124897e-02,\n",
       "         3.73059176e-02,  4.10883734e-03, -4.29803059e-02,\n",
       "        -1.62029881e-02, -3.35736424e-02,  6.04493245e-02,\n",
       "         9.86861661e-02,  2.83195060e-02, -1.33268279e-03,\n",
       "         2.23926473e-02, -1.35439724e-01,  1.58010751e-01,\n",
       "        -4.95755933e-02,  1.54013425e-01,  5.89341857e-02,\n",
       "        -3.09726726e-02, -2.22398643e-03,  1.83520988e-01,\n",
       "         8.07771012e-02, -6.66364804e-02,  3.75267789e-02,\n",
       "        -1.37981668e-01,  1.70449838e-01,  2.48288721e-01,\n",
       "        -1.62394553e-01, -1.34406373e-01, -1.46997288e-01,\n",
       "        -3.94507982e-02,  7.92349651e-02,  9.85484868e-02,\n",
       "         1.01018958e-01,  1.30009383e-03, -1.50924280e-01,\n",
       "        -4.10837047e-02, -2.17975885e-01, -4.12760563e-02,\n",
       "        -5.02972342e-02,  8.27938467e-02, -1.46405520e-02,\n",
       "         3.61348651e-02, -7.76493028e-02, -1.40789375e-01,\n",
       "        -1.28251195e-01,  1.20726697e-01, -3.06767151e-02,\n",
       "         1.61576923e-02,  6.81200251e-02, -5.67695349e-02,\n",
       "         5.10924906e-02, -3.66569869e-02,  2.00074971e-01,\n",
       "        -9.21082799e-04,  5.33671230e-02, -1.29209027e-01,\n",
       "        -1.18108176e-01,  1.83344722e-01, -1.46664724e-01,\n",
       "         5.29887713e-02, -1.40355434e-02,  1.24968151e-02,\n",
       "         4.79787327e-02,  2.36050323e-01,  1.70470290e-02,\n",
       "        -1.12973981e-01],\n",
       "       [-8.66450071e-02,  1.37827024e-01,  4.02944200e-02,\n",
       "        -7.76442662e-02,  2.66502444e-02,  1.87762547e-02,\n",
       "         9.27902982e-02, -2.00562123e-02,  4.48185466e-02,\n",
       "         2.76831891e-02,  4.18463685e-02,  1.08203962e-01,\n",
       "        -3.36669236e-02,  9.69162136e-02,  1.38048545e-01,\n",
       "        -1.14273734e-01,  2.51071621e-02, -1.63435608e-01,\n",
       "        -9.16295201e-02, -2.56747574e-01,  1.02318406e-01,\n",
       "        -7.56900711e-03, -4.09382619e-02, -1.18622713e-01,\n",
       "        -1.64855093e-01, -6.51794067e-03, -1.60380621e-02,\n",
       "         1.50232166e-01,  2.48418469e-03,  9.89684388e-02,\n",
       "        -1.08048841e-01, -1.42357513e-01,  8.39893892e-03,\n",
       "         4.82255742e-02, -1.05004407e-01, -3.31208669e-02,\n",
       "         1.16691396e-01, -3.38585749e-02, -2.80786809e-02,\n",
       "        -1.89655855e-01, -1.36721715e-01,  5.19702099e-02,\n",
       "         5.16110063e-02, -8.08616728e-02, -5.93390018e-02,\n",
       "        -2.47048978e-02,  8.16857740e-02,  4.91020977e-02,\n",
       "        -1.32685378e-01,  9.82747748e-02, -8.33965167e-02,\n",
       "        -1.28582969e-01, -3.63894142e-02, -1.26501487e-03,\n",
       "        -5.47460243e-02, -7.89731145e-02,  3.76885198e-02,\n",
       "        -8.44418901e-05, -2.87690014e-02,  1.27430767e-01,\n",
       "        -2.63540260e-02, -7.24573135e-02, -7.70980641e-02,\n",
       "        -5.23813069e-02, -3.50954011e-02,  2.18051746e-01,\n",
       "        -1.01661451e-01,  9.01373699e-02,  3.07722371e-02,\n",
       "        -5.24683259e-02, -1.38419658e-01, -9.33304802e-02,\n",
       "        -3.59392799e-02,  1.55785412e-01,  1.44172370e-01,\n",
       "        -6.07011374e-03, -3.14080328e-01, -1.90951694e-02,\n",
       "         2.34472882e-02,  7.60045126e-02, -1.46608517e-01,\n",
       "         1.00197442e-01, -3.52866724e-02,  4.21471447e-02,\n",
       "         7.87206590e-02,  8.33144262e-02,  1.97657466e-01,\n",
       "        -7.19944611e-02, -1.48364663e-01,  1.37056392e-02,\n",
       "        -6.83180764e-02,  2.28817035e-02, -2.88567066e-01,\n",
       "         4.17150557e-02,  5.06882963e-04, -4.52025700e-03,\n",
       "        -8.77953842e-02,  1.99022721e-02, -9.74295214e-02,\n",
       "         1.99706256e-02]], dtype=float32)"
      ]
     },
     "execution_count": 21,
     "metadata": {},
     "output_type": "execute_result"
    }
   ],
   "source": [
    "X[:10]"
   ]
  },
  {
   "cell_type": "markdown",
   "metadata": {},
   "source": [
    "# 视觉化word2vec词嵌入\n",
    "\n",
    "\n",
    "视觉化呈现已创建的嵌入总是很有帮助。此处有100个维度的嵌入。我们连4维都不能视觉化呈现，更别提100维了。那究竟该怎么办呢？\n",
    "\n",
    "将通过UMAP算法把产品嵌入维度从100减少至2。这在维度减少中的应用十分常见。"
   ]
  },
  {
   "cell_type": "code",
   "execution_count": 22,
   "metadata": {},
   "outputs": [
    {
     "name": "stdout",
     "output_type": "stream",
     "text": [
      "Looking in indexes: https://pypi.doubanio.com/simple\n",
      "Collecting umap-learn\n",
      "  Downloading https://pypi.doubanio.com/packages/ac/21/e1eb2eb1c624a84f4a23237adb974e94ff7371ee8c178d246194af83fb80/umap-learn-0.4.6.tar.gz (69kB)\n",
      "Requirement already satisfied: numpy>=1.17 in c:\\users\\yckj2453\\.conda\\envs\\tf2\\lib\\site-packages (from umap-learn) (1.19.2)\n",
      "Requirement already satisfied: scikit-learn>=0.20 in c:\\users\\yckj2453\\.conda\\envs\\tf2\\lib\\site-packages (from umap-learn) (0.22.2.post1)\n",
      "Requirement already satisfied: scipy>=1.3.1 in c:\\users\\yckj2453\\.conda\\envs\\tf2\\lib\\site-packages (from umap-learn) (1.4.1)\n",
      "Collecting numba!=0.47,>=0.46\n",
      "  Downloading https://pypi.doubanio.com/packages/a3/23/6484f060008417ce12c3ea11a609a131c725e50fb79b6d30f5a7369a60bc/numba-0.51.2-cp36-cp36m-win_amd64.whl (2.2MB)\n",
      "Requirement already satisfied: joblib>=0.11 in c:\\users\\yckj2453\\.conda\\envs\\tf2\\lib\\site-packages (from scikit-learn>=0.20->umap-learn) (0.14.1)\n",
      "Requirement already satisfied: setuptools in c:\\users\\yckj2453\\.conda\\envs\\tf2\\lib\\site-packages (from numba!=0.47,>=0.46->umap-learn) (42.0.2.post20191203)\n",
      "Collecting llvmlite<0.35,>=0.34.0.dev0\n",
      "  Downloading https://pypi.doubanio.com/packages/b8/b0/f69cb0dc1cff13e6b75ea1190577d590d8d8e2bd3fe803ac45235d4b1ec8/llvmlite-0.34.0-cp36-cp36m-win_amd64.whl (15.9MB)\n",
      "Building wheels for collected packages: umap-learn\n",
      "  Building wheel for umap-learn (setup.py): started\n",
      "  Building wheel for umap-learn (setup.py): finished with status 'done'\n",
      "  Created wheel for umap-learn: filename=umap_learn-0.4.6-cp36-none-any.whl size=67955 sha256=a60b6d8abf882fead8a2078eaa640a9f3e87e77a39020842cc8cc05207e1616f\n",
      "  Stored in directory: C:\\Users\\yckj2453\\AppData\\Local\\pip\\Cache\\wheels\\94\\eb\\5f\\7215858f8f11bc68c887db5c1e49564c5c112feffe4efda765\n",
      "Successfully built umap-learn\n",
      "Installing collected packages: llvmlite, numba, umap-learn\n",
      "Successfully installed llvmlite-0.34.0 numba-0.51.2 umap-learn-0.4.6\n"
     ]
    }
   ],
   "source": [
    "!pip install umap-learn -i https://pypi.doubanio.com/simple"
   ]
  },
  {
   "cell_type": "code",
   "execution_count": 23,
   "metadata": {},
   "outputs": [
    {
     "data": {
      "text/plain": [
       "<matplotlib.collections.PathCollection at 0x1e2db2a4d68>"
      ]
     },
     "execution_count": 23,
     "metadata": {},
     "output_type": "execute_result"
    },
    {
     "data": {
      "image/png": "[encoded data removed]",
      "text/plain": [
       "<Figure size 720x648 with 1 Axes>"
      ]
     },
     "metadata": {
      "needs_background": "light"
     },
     "output_type": "display_data"
    }
   ],
   "source": [
    "import umap\n",
    "\n",
    "cluster_embedding = umap.UMAP(n_neighbors=30, min_dist=0.0,\n",
    "                              n_components=2, random_state=42).fit_transform(X)\n",
    "\n",
    "plt.figure(figsize=(10,9))\n",
    "plt.scatter(cluster_embedding[:, 0], cluster_embedding[:, 1], s=3, cmap='Spectral')"
   ]
  },
  {
   "cell_type": "markdown",
   "metadata": {},
   "source": [
    "# 开始推荐产品\n",
    "\n",
    "\n",
    "恭喜！数据集中每一个产品的word2vec嵌入都已完成。现在，需要为特定产品或产品向量推荐相似产品。\n",
    "\n",
    "\n",
    "\n",
    "首先创建产品ID以及产品描述库，以便于将产品描述和ID相互匹配。"
   ]
  },
  {
   "cell_type": "code",
   "execution_count": 24,
   "metadata": {},
   "outputs": [],
   "source": [
    "products = train_df[[\"StockCode\", \"Description\"]]\n",
    "\n",
    "# remove duplicates\n",
    "products.drop_duplicates(inplace=True, subset='StockCode', keep=\"last\")\n",
    "\n",
    "# create product-ID and product-description dictionary\n",
    "products_dict = products.groupby('StockCode')['Description'].apply(list).to_dict()"
   ]
  },
  {
   "cell_type": "code",
   "execution_count": 25,
   "metadata": {},
   "outputs": [
    {
     "data": {
      "text/plain": [
       "['RED WOOLLY HOTTIE WHITE HEART.']"
      ]
     },
     "execution_count": 25,
     "metadata": {},
     "output_type": "execute_result"
    }
   ],
   "source": [
    "# test the dictionary\n",
    "products_dict['84029E']"
   ]
  },
  {
   "cell_type": "code",
   "execution_count": 28,
   "metadata": {},
   "outputs": [
    {
     "data": {
      "text/plain": [
       "(array([-0.07652314, -0.0847657 ,  0.03816408, -0.03015011, -0.00391839,\n",
       "         0.14147958,  0.07426704, -0.16220953,  0.04356417,  0.15819831,\n",
       "        -0.00142058,  0.15079571,  0.04856767, -0.00974724,  0.00837507,\n",
       "        -0.01917881, -0.19533177, -0.091886  , -0.07358392, -0.06106477,\n",
       "        -0.03963001,  0.03659695, -0.04759163, -0.07517472,  0.21878888,\n",
       "         0.23126748,  0.116574  , -0.01909766, -0.04168454, -0.10454914,\n",
       "        -0.19512956,  0.04303248, -0.01036955, -0.08130553, -0.02890081,\n",
       "        -0.01563869,  0.09522264, -0.00101891,  0.04973465,  0.0143919 ,\n",
       "         0.0489209 , -0.05773944,  0.07254761,  0.11944831,  0.09623791,\n",
       "        -0.17284359, -0.03934039,  0.11744715, -0.01441735, -0.0430789 ,\n",
       "         0.17687918, -0.11292614, -0.12115998, -0.04720278, -0.10669759,\n",
       "        -0.01622539,  0.09134952,  0.15217447, -0.04409044, -0.12397135,\n",
       "        -0.0320895 , -0.13138607, -0.14153056,  0.15691768, -0.03832192,\n",
       "         0.00843858, -0.19840567,  0.11055887, -0.11017145,  0.06096422,\n",
       "         0.00734216, -0.06085671, -0.11289889,  0.12490147, -0.03973772,\n",
       "        -0.04761736, -0.2332677 ,  0.0372147 ,  0.14631861,  0.09994429,\n",
       "        -0.06167441,  0.18267217,  0.03391495,  0.08175958,  0.13731   ,\n",
       "        -0.03781427,  0.06735343, -0.01667265,  0.00537015, -0.17116603,\n",
       "        -0.02291173,  0.08603729, -0.0494725 , -0.05671785,  0.01512335,\n",
       "         0.14629729, -0.11417949, -0.12114599,  0.04269557, -0.06068551],\n",
       "       dtype=float32), (100,))"
      ]
     },
     "execution_count": 28,
     "metadata": {},
     "output_type": "execute_result"
    }
   ],
   "source": [
    "model['90019A'], model['90019A'].shape"
   ]
  },
  {
   "cell_type": "markdown",
   "metadata": {},
   "source": [
    "以下对该函数进行了定义。将产品向量作为输入，相似性最大的6个产品为输出："
   ]
  },
  {
   "cell_type": "code",
   "execution_count": null,
   "metadata": {},
   "outputs": [],
   "source": [
    "def similar_products(v, n = 6):\n",
    "    \n",
    "    # extract most similar products for the input vector\n",
    "    ms = model.similar_by_vector(v, topn= n+1)[1:]  # 自身向量与自身计算相似度，当然相似度比是最高的，所以省略\n",
    "    \n",
    "    # extract name and similarity score of the similar products\n",
    "    new_ms = []\n",
    "    for j in ms:\n",
    "        pair = (products_dict[j[0]][0], j[1])\n",
    "        new_ms.append(pair)\n",
    "        \n",
    "    return new_ms"
   ]
  }
 ],
 "metadata": {
  "kernelspec": {
   "display_name": "Python 3.6.9 64-bit ('TF2': conda)",
   "language": "python",
   "name": "python36964bittf2condabb5e8804759547bbb0b8b22765ded733"
  },
  "language_info": {
   "codemirror_mode": {
    "name": "ipython",
    "version": 3
   },
   "file_extension": ".py",
   "mimetype": "text/x-python",
   "name": "python",
   "nbconvert_exporter": "python",
   "pygments_lexer": "ipython3",
   "version": "3.6.9"
  }
 },
 "nbformat": 4,
 "nbformat_minor": 2
}
