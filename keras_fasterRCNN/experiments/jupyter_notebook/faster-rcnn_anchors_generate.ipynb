{
 "cells": [
  {
   "cell_type": "markdown",
   "metadata": {},
   "source": [
    "# 理解父类函数调用子类函数"
   ]
  },
  {
   "cell_type": "code",
   "execution_count": 12,
   "metadata": {},
   "outputs": [],
   "source": [
    "class Parent(object):\n",
    "    def __init__(self, name):\n",
    "        self.name = name\n",
    "    \n",
    "    def get_name(self):\n",
    "        pass \n",
    "    \n",
    "    def print_name(self):\n",
    "        self.get_name()\n",
    "\n",
    "class Son(Parent):\n",
    "    def __init__(self, name='YQS'):\n",
    "        super().__init__(name)\n",
    "        \n",
    "    def get_name(self):\n",
    "        print(self.name)"
   ]
  },
  {
   "cell_type": "code",
   "execution_count": 13,
   "metadata": {},
   "outputs": [
    {
     "name": "stdout",
     "output_type": "stream",
     "text": [
      "YQS\n"
     ]
    }
   ],
   "source": [
    "pt = Son()\n",
    "pt.print_name()"
   ]
  },
  {
   "cell_type": "markdown",
   "metadata": {},
   "source": [
    "# CONV_5 特征图的每个特征点锚框的生成（9个）"
   ]
  },
  {
   "cell_type": "code",
   "execution_count": 14,
   "metadata": {},
   "outputs": [],
   "source": [
    "# 基础函数\n",
    "import numpy as np "
   ]
  },
  {
   "cell_type": "code",
   "execution_count": 18,
   "metadata": {},
   "outputs": [],
   "source": [
    "def _whctrs(anchor):\n",
    "    \"\"\"\n",
    "    Return width, height, x center, and y center for an anchor (window).\n",
    "    \"\"\"\n",
    "\n",
    "    w = anchor[2] - anchor[0] + 1\n",
    "    h = anchor[3] - anchor[1] + 1\n",
    "    x_ctr = anchor[0] + 0.5 * (w - 1)\n",
    "    y_ctr = anchor[1] + 0.5 * (h - 1)\n",
    "    \n",
    "    return w, h, x_ctr, y_ctr"
   ]
  },
  {
   "cell_type": "code",
   "execution_count": 19,
   "metadata": {},
   "outputs": [],
   "source": [
    "def _mkanchors(ws, hs, x_ctr, y_ctr):\n",
    "    \"\"\"\n",
    "    Given a vector of widths (ws) and heights (hs) around a center\n",
    "    (x_ctr, y_ctr), output a set of anchors (windows).\n",
    "    \"\"\"\n",
    "\n",
    "    ws = ws[:, np.newaxis]\n",
    "    hs = hs[:, np.newaxis]\n",
    "    anchors = np.hstack((x_ctr - 0.5 * (ws - 1),\n",
    "                       y_ctr - 0.5 * (hs - 1),\n",
    "                       x_ctr + 0.5 * (ws - 1),\n",
    "                       y_ctr + 0.5 * (hs - 1)))\n",
    "    \n",
    "    return anchors"
   ]
  },
  {
   "cell_type": "code",
   "execution_count": 20,
   "metadata": {},
   "outputs": [],
   "source": [
    "def _ratio_enum(anchor, ratios):\n",
    "    \"\"\"\n",
    "    Enumerate a set of anchors for each aspect ratio wrt an anchor.\n",
    "    \"\"\"\n",
    "\n",
    "    w, h, x_ctr, y_ctr = _whctrs(anchor) # 坐标中心化，将矩形框的原点移动到矩形框的中心点\n",
    "    size = w * h\n",
    "    size_ratios = size / ratios\n",
    "    ws = np.round(np.sqrt(size_ratios))\n",
    "    hs = np.round(ws * ratios)\n",
    "    anchors = _mkanchors(ws, hs, x_ctr, y_ctr)\n",
    "    \n",
    "    return anchors"
   ]
  },
  {
   "cell_type": "code",
   "execution_count": 21,
   "metadata": {},
   "outputs": [],
   "source": [
    "def _scale_enum(anchor, scales):\n",
    "    \"\"\"\n",
    "    Enumerate a set of anchors for each scale wrt an anchor.\n",
    "    \"\"\"\n",
    "\n",
    "    w, h, x_ctr, y_ctr = _whctrs(anchor)\n",
    "    ws = w * scales\n",
    "    hs = h * scales\n",
    "    anchors = _mkanchors(ws, hs, x_ctr, y_ctr)\n",
    "    \n",
    "    return anchors"
   ]
  },
  {
   "cell_type": "code",
   "execution_count": 22,
   "metadata": {},
   "outputs": [],
   "source": [
    "def generate_anchors(base_size=16, ratios=[0.5, 1, 2],\n",
    "                 scales=2 ** np.arange(3, 6)):\n",
    "    \"\"\"\n",
    "    Generate anchor (reference) windows by enumerating aspect ratios X\n",
    "    scales wrt a reference (0, 0, 15, 15) window.\n",
    "    \"\"\"\n",
    "    \n",
    "    base_anchor = np.array([1, 1, base_size, base_size]) - 1 # 基础框的坐标\n",
    "    ratio_anchors = _ratio_enum(base_anchor, ratios)\n",
    "    anchors = np.vstack([_scale_enum(ratio_anchors[i, :], scales)\n",
    "                   for i in range(ratio_anchors.shape[0])])\n",
    "    \n",
    "    return anchors"
   ]
  },
  {
   "cell_type": "code",
   "execution_count": 24,
   "metadata": {},
   "outputs": [
    {
     "data": {
      "text/plain": [
       "array([ 0,  0, 15, 15])"
      ]
     },
     "execution_count": 24,
     "metadata": {},
     "output_type": "execute_result"
    }
   ],
   "source": [
    "base_size = 16 \n",
    "anchor = np.array([1, 1, base_size, base_size]) - 1\n",
    "anchor"
   ]
  },
  {
   "cell_type": "code",
   "execution_count": 26,
   "metadata": {},
   "outputs": [
    {
     "name": "stdout",
     "output_type": "stream",
     "text": [
      "16\n",
      "16\n",
      "7.5\n",
      "7.5\n"
     ]
    }
   ],
   "source": [
    "w = anchor[2] - anchor[0] + 1\n",
    "print(w)\n",
    "h = anchor[3] - anchor[1] + 1\n",
    "print(h)\n",
    "x_ctr = anchor[0] + 0.5 * (w - 1)\n",
    "print(x_ctr)\n",
    "y_ctr = anchor[1] + 0.5 * (h - 1)\n",
    "print(y_ctr)"
   ]
  },
  {
   "cell_type": "code",
   "execution_count": 48,
   "metadata": {},
   "outputs": [
    {
     "name": "stdout",
     "output_type": "stream",
     "text": [
      "256\n",
      "[512. 256. 128.]\n",
      "[22.627417  16.        11.3137085]\n",
      "[23. 16. 11.]\n",
      "[12. 16. 22.]\n"
     ]
    }
   ],
   "source": [
    "size = w * h\n",
    "print(size)\n",
    "ratios=[0.5, 1, 2] # 按面积计算比例\n",
    "size_ratios = size / ratios\n",
    "print(size_ratios)\n",
    "print(np.sqrt(size_ratios))\n",
    "ws = np.round(np.sqrt(size_ratios))\n",
    "print(ws)\n",
    "hs = np.round(ws * ratios)\n",
    "print(hs)"
   ]
  },
  {
   "cell_type": "code",
   "execution_count": 49,
   "metadata": {},
   "outputs": [
    {
     "name": "stdout",
     "output_type": "stream",
     "text": [
      "[[23.]\n",
      " [16.]\n",
      " [11.]]\n",
      "[[12.]\n",
      " [16.]\n",
      " [22.]]\n",
      "[[-3.5]\n",
      " [ 0. ]\n",
      " [ 2.5]]\n"
     ]
    }
   ],
   "source": [
    "# 三种比例锚框的宽\n",
    "ws = ws[:, np.newaxis]\n",
    "print(ws)\n",
    "# 三种比例锚框的高\n",
    "hs = hs[:, np.newaxis]\n",
    "print(hs)\n",
    "print(x_ctr - 0.5 * (ws - 1))"
   ]
  },
  {
   "cell_type": "code",
   "execution_count": 43,
   "metadata": {},
   "outputs": [],
   "source": [
    "np.hstack?"
   ]
  },
  {
   "cell_type": "code",
   "execution_count": 50,
   "metadata": {},
   "outputs": [
    {
     "name": "stdout",
     "output_type": "stream",
     "text": [
      "[[-3.5  2.  18.5 13. ]\n",
      " [ 0.   0.  15.  15. ]\n",
      " [ 2.5 -3.  12.5 18. ]]\n"
     ]
    }
   ],
   "source": [
    "# 图像是一个第四象限的坐标系，向下y+,向右x+\n",
    "# 矩形框的表示为（左上，右下）两个点坐标\n",
    "# np.hstack（）在水平方向上平铺\n",
    "# 获取三种比例锚框\n",
    "anchors = np.hstack((x_ctr - 0.5 * (ws - 1),\n",
    "                   y_ctr - 0.5 * (hs - 1),\n",
    "                   x_ctr + 0.5 * (ws - 1),\n",
    "                    y_ctr + 0.5 * (hs - 1)))\n",
    "print(anchors)"
   ]
  },
  {
   "cell_type": "code",
   "execution_count": 51,
   "metadata": {},
   "outputs": [
    {
     "name": "stdout",
     "output_type": "stream",
     "text": [
      "[ 8 16 32]\n"
     ]
    }
   ],
   "source": [
    "# anchors = np.vstack([_scale_enum(ratio_anchors[i, :], scales)\n",
    "#                    for i in range(ratio_anchors.shape[0])])\n",
    "scales=2 ** np.arange(3, 6)\n",
    "print(scales)"
   ]
  },
  {
   "cell_type": "code",
   "execution_count": 52,
   "metadata": {},
   "outputs": [
    {
     "name": "stdout",
     "output_type": "stream",
     "text": [
      "23.0 12.0 7.5 7.5\n"
     ]
    }
   ],
   "source": [
    "w, h, x_ctr, y_ctr = _whctrs(anchors[0, :])\n",
    "print(w, h, x_ctr, y_ctr)"
   ]
  },
  {
   "cell_type": "code",
   "execution_count": 53,
   "metadata": {},
   "outputs": [
    {
     "name": "stdout",
     "output_type": "stream",
     "text": [
      "[184. 368. 736.]\n",
      "[ 96. 192. 384.]\n"
     ]
    }
   ],
   "source": [
    "ws = w * scales\n",
    "print(ws)\n",
    "hs = h * scales\n",
    "print(hs)"
   ]
  },
  {
   "cell_type": "code",
   "execution_count": 54,
   "metadata": {},
   "outputs": [
    {
     "name": "stdout",
     "output_type": "stream",
     "text": [
      "[[ -84.  -40.   99.   55.]\n",
      " [-176.  -88.  191.  103.]\n",
      " [-360. -184.  375.  199.]]\n"
     ]
    }
   ],
   "source": [
    "anchors_ = _mkanchors(ws, hs, x_ctr, y_ctr)\n",
    "print(anchors_)"
   ]
  },
  {
   "cell_type": "code",
   "execution_count": 55,
   "metadata": {},
   "outputs": [
    {
     "name": "stdout",
     "output_type": "stream",
     "text": [
      "[[1 2 3]\n",
      " [3 4 3]]\n"
     ]
    }
   ],
   "source": [
    "print(np.vstack(([1,2,3],[3,4,3])))"
   ]
  },
  {
   "cell_type": "code",
   "execution_count": 57,
   "metadata": {},
   "outputs": [
    {
     "data": {
      "text/plain": [
       "array([[ -84.,  -40.,   99.,   55.],\n",
       "       [-176.,  -88.,  191.,  103.],\n",
       "       [-360., -184.,  375.,  199.],\n",
       "       [ -56.,  -56.,   71.,   71.],\n",
       "       [-120., -120.,  135.,  135.],\n",
       "       [-248., -248.,  263.,  263.],\n",
       "       [ -36.,  -80.,   51.,   95.],\n",
       "       [ -80., -168.,   95.,  183.],\n",
       "       [-168., -344.,  183.,  359.]])"
      ]
     },
     "execution_count": 57,
     "metadata": {},
     "output_type": "execute_result"
    }
   ],
   "source": [
    "anchors__ = np.vstack([_scale_enum(anchors[i, :], scales)\n",
    "                   for i in range(anchors.shape[0])])\n",
    "anchors__"
   ]
  },
  {
   "cell_type": "code",
   "execution_count": 58,
   "metadata": {},
   "outputs": [],
   "source": [
    "np.vstack?"
   ]
  },
  {
   "cell_type": "code",
   "execution_count": 60,
   "metadata": {},
   "outputs": [],
   "source": [
    "import tensorflow as tf "
   ]
  },
  {
   "cell_type": "code",
   "execution_count": 61,
   "metadata": {},
   "outputs": [],
   "source": [
    "# 为每个点生成9个锚框的函数\n",
    "def generate_anchors_pre_tf(height, width, feat_stride=16, anchor_scales=(8, 16, 32), anchor_ratios=(0.5, 1, 2)):\n",
    "    shift_x = tf.range(width) * feat_stride # width\n",
    "    shift_y = tf.range(height) * feat_stride # height\n",
    "    shift_x, shift_y = tf.meshgrid(shift_x, shift_y)\n",
    "    sx = tf.reshape(shift_x, shape=(-1,))\n",
    "    sy = tf.reshape(shift_y, shape=(-1,))\n",
    "    shifts = tf.transpose(tf.stack([sx, sy, sx, sy]))\n",
    "    K = tf.multiply(width, height)\n",
    "    shifts = tf.transpose(tf.reshape(shifts, shape=[1, K, 4]), perm=(1, 0, 2))\n",
    "\n",
    "    anchors = generate_anchors(ratios=np.array(anchor_ratios), scales=np.array(anchor_scales))\n",
    "    A = anchors.shape[0]\n",
    "    anchor_constant = tf.constant(anchors.reshape((1, A, 4)), dtype=tf.int32)\n",
    "\n",
    "    length = K * A\n",
    "    anchors_tf = tf.reshape(tf.add(anchor_constant, shifts), shape=(length, 4))\n",
    "\n",
    "    return tf.cast(anchors_tf, dtype=tf.float32), length"
   ]
  },
  {
   "cell_type": "code",
   "execution_count": 62,
   "metadata": {},
   "outputs": [],
   "source": [
    "height, width = 10, 10 \n",
    "feat_stride = 16 \n",
    "anchor_scales=(8, 16, 32)\n",
    "anchor_ratios=(0.5, 1, 2)"
   ]
  },
  {
   "cell_type": "code",
   "execution_count": 68,
   "metadata": {},
   "outputs": [
    {
     "name": "stdout",
     "output_type": "stream",
     "text": [
      "tf.Tensor([  0  16  32  48  64  80  96 112 128 144], shape=(10,), dtype=int32)\n",
      "tf.Tensor([  0  16  32  48  64  80  96 112 128 144], shape=(10,), dtype=int32)\n"
     ]
    }
   ],
   "source": [
    "shift_x = tf.range(width) * feat_stride # width\n",
    "print(shift_x)\n",
    "shift_y = tf.range(height) * feat_stride # height\n",
    "print(shift_y)"
   ]
  },
  {
   "cell_type": "code",
   "execution_count": 69,
   "metadata": {},
   "outputs": [
    {
     "name": "stdout",
     "output_type": "stream",
     "text": [
      "tf.Tensor(\n",
      "[[  0  16  32  48  64  80  96 112 128 144]\n",
      " [  0  16  32  48  64  80  96 112 128 144]\n",
      " [  0  16  32  48  64  80  96 112 128 144]\n",
      " [  0  16  32  48  64  80  96 112 128 144]\n",
      " [  0  16  32  48  64  80  96 112 128 144]\n",
      " [  0  16  32  48  64  80  96 112 128 144]\n",
      " [  0  16  32  48  64  80  96 112 128 144]\n",
      " [  0  16  32  48  64  80  96 112 128 144]\n",
      " [  0  16  32  48  64  80  96 112 128 144]\n",
      " [  0  16  32  48  64  80  96 112 128 144]], shape=(10, 10), dtype=int32) tf.Tensor(\n",
      "[[  0   0   0   0   0   0   0   0   0   0]\n",
      " [ 16  16  16  16  16  16  16  16  16  16]\n",
      " [ 32  32  32  32  32  32  32  32  32  32]\n",
      " [ 48  48  48  48  48  48  48  48  48  48]\n",
      " [ 64  64  64  64  64  64  64  64  64  64]\n",
      " [ 80  80  80  80  80  80  80  80  80  80]\n",
      " [ 96  96  96  96  96  96  96  96  96  96]\n",
      " [112 112 112 112 112 112 112 112 112 112]\n",
      " [128 128 128 128 128 128 128 128 128 128]\n",
      " [144 144 144 144 144 144 144 144 144 144]], shape=(10, 10), dtype=int32)\n"
     ]
    }
   ],
   "source": [
    "# 获取特征图每个点的坐标\n",
    "shift_x, shift_y = tf.meshgrid(shift_x, shift_y)\n",
    "print(shift_x, shift_y)"
   ]
  },
  {
   "cell_type": "code",
   "execution_count": 71,
   "metadata": {},
   "outputs": [
    {
     "name": "stdout",
     "output_type": "stream",
     "text": [
      "tf.Tensor(\n",
      "[  0  16  32  48  64  80  96 112 128 144   0  16  32  48  64  80  96 112\n",
      " 128 144   0  16  32  48  64  80  96 112 128 144   0  16  32  48  64  80\n",
      "  96 112 128 144   0  16  32  48  64  80  96 112 128 144   0  16  32  48\n",
      "  64  80  96 112 128 144   0  16  32  48  64  80  96 112 128 144   0  16\n",
      "  32  48  64  80  96 112 128 144   0  16  32  48  64  80  96 112 128 144\n",
      "   0  16  32  48  64  80  96 112 128 144], shape=(100,), dtype=int32)\n",
      "tf.Tensor(\n",
      "[  0   0   0   0   0   0   0   0   0   0  16  16  16  16  16  16  16  16\n",
      "  16  16  32  32  32  32  32  32  32  32  32  32  48  48  48  48  48  48\n",
      "  48  48  48  48  64  64  64  64  64  64  64  64  64  64  80  80  80  80\n",
      "  80  80  80  80  80  80  96  96  96  96  96  96  96  96  96  96 112 112\n",
      " 112 112 112 112 112 112 112 112 128 128 128 128 128 128 128 128 128 128\n",
      " 144 144 144 144 144 144 144 144 144 144], shape=(100,), dtype=int32)\n"
     ]
    }
   ],
   "source": [
    "# 转变为一维变量\n",
    "sx = tf.reshape(shift_x, shape=(-1,))\n",
    "print(sx)\n",
    "sy = tf.reshape(shift_y, shape=(-1,))\n",
    "print(sy)"
   ]
  },
  {
   "cell_type": "code",
   "execution_count": 72,
   "metadata": {},
   "outputs": [
    {
     "name": "stdout",
     "output_type": "stream",
     "text": [
      "tf.Tensor(\n",
      "[[  0  16  32  48  64  80  96 112 128 144   0  16  32  48  64  80  96 112\n",
      "  128 144   0  16  32  48  64  80  96 112 128 144   0  16  32  48  64  80\n",
      "   96 112 128 144   0  16  32  48  64  80  96 112 128 144   0  16  32  48\n",
      "   64  80  96 112 128 144   0  16  32  48  64  80  96 112 128 144   0  16\n",
      "   32  48  64  80  96 112 128 144   0  16  32  48  64  80  96 112 128 144\n",
      "    0  16  32  48  64  80  96 112 128 144]\n",
      " [  0   0   0   0   0   0   0   0   0   0  16  16  16  16  16  16  16  16\n",
      "   16  16  32  32  32  32  32  32  32  32  32  32  48  48  48  48  48  48\n",
      "   48  48  48  48  64  64  64  64  64  64  64  64  64  64  80  80  80  80\n",
      "   80  80  80  80  80  80  96  96  96  96  96  96  96  96  96  96 112 112\n",
      "  112 112 112 112 112 112 112 112 128 128 128 128 128 128 128 128 128 128\n",
      "  144 144 144 144 144 144 144 144 144 144]\n",
      " [  0  16  32  48  64  80  96 112 128 144   0  16  32  48  64  80  96 112\n",
      "  128 144   0  16  32  48  64  80  96 112 128 144   0  16  32  48  64  80\n",
      "   96 112 128 144   0  16  32  48  64  80  96 112 128 144   0  16  32  48\n",
      "   64  80  96 112 128 144   0  16  32  48  64  80  96 112 128 144   0  16\n",
      "   32  48  64  80  96 112 128 144   0  16  32  48  64  80  96 112 128 144\n",
      "    0  16  32  48  64  80  96 112 128 144]\n",
      " [  0   0   0   0   0   0   0   0   0   0  16  16  16  16  16  16  16  16\n",
      "   16  16  32  32  32  32  32  32  32  32  32  32  48  48  48  48  48  48\n",
      "   48  48  48  48  64  64  64  64  64  64  64  64  64  64  80  80  80  80\n",
      "   80  80  80  80  80  80  96  96  96  96  96  96  96  96  96  96 112 112\n",
      "  112 112 112 112 112 112 112 112 128 128 128 128 128 128 128 128 128 128\n",
      "  144 144 144 144 144 144 144 144 144 144]], shape=(4, 100), dtype=int32)\n"
     ]
    }
   ],
   "source": [
    "print(tf.stack([sx, sy, sx, sy]))"
   ]
  },
  {
   "cell_type": "code",
   "execution_count": 73,
   "metadata": {},
   "outputs": [
    {
     "name": "stdout",
     "output_type": "stream",
     "text": [
      "tf.Tensor(\n",
      "[[  0   0   0   0]\n",
      " [ 16   0  16   0]\n",
      " [ 32   0  32   0]\n",
      " [ 48   0  48   0]\n",
      " [ 64   0  64   0]\n",
      " [ 80   0  80   0]\n",
      " [ 96   0  96   0]\n",
      " [112   0 112   0]\n",
      " [128   0 128   0]\n",
      " [144   0 144   0]\n",
      " [  0  16   0  16]\n",
      " [ 16  16  16  16]\n",
      " [ 32  16  32  16]\n",
      " [ 48  16  48  16]\n",
      " [ 64  16  64  16]\n",
      " [ 80  16  80  16]\n",
      " [ 96  16  96  16]\n",
      " [112  16 112  16]\n",
      " [128  16 128  16]\n",
      " [144  16 144  16]\n",
      " [  0  32   0  32]\n",
      " [ 16  32  16  32]\n",
      " [ 32  32  32  32]\n",
      " [ 48  32  48  32]\n",
      " [ 64  32  64  32]\n",
      " [ 80  32  80  32]\n",
      " [ 96  32  96  32]\n",
      " [112  32 112  32]\n",
      " [128  32 128  32]\n",
      " [144  32 144  32]\n",
      " [  0  48   0  48]\n",
      " [ 16  48  16  48]\n",
      " [ 32  48  32  48]\n",
      " [ 48  48  48  48]\n",
      " [ 64  48  64  48]\n",
      " [ 80  48  80  48]\n",
      " [ 96  48  96  48]\n",
      " [112  48 112  48]\n",
      " [128  48 128  48]\n",
      " [144  48 144  48]\n",
      " [  0  64   0  64]\n",
      " [ 16  64  16  64]\n",
      " [ 32  64  32  64]\n",
      " [ 48  64  48  64]\n",
      " [ 64  64  64  64]\n",
      " [ 80  64  80  64]\n",
      " [ 96  64  96  64]\n",
      " [112  64 112  64]\n",
      " [128  64 128  64]\n",
      " [144  64 144  64]\n",
      " [  0  80   0  80]\n",
      " [ 16  80  16  80]\n",
      " [ 32  80  32  80]\n",
      " [ 48  80  48  80]\n",
      " [ 64  80  64  80]\n",
      " [ 80  80  80  80]\n",
      " [ 96  80  96  80]\n",
      " [112  80 112  80]\n",
      " [128  80 128  80]\n",
      " [144  80 144  80]\n",
      " [  0  96   0  96]\n",
      " [ 16  96  16  96]\n",
      " [ 32  96  32  96]\n",
      " [ 48  96  48  96]\n",
      " [ 64  96  64  96]\n",
      " [ 80  96  80  96]\n",
      " [ 96  96  96  96]\n",
      " [112  96 112  96]\n",
      " [128  96 128  96]\n",
      " [144  96 144  96]\n",
      " [  0 112   0 112]\n",
      " [ 16 112  16 112]\n",
      " [ 32 112  32 112]\n",
      " [ 48 112  48 112]\n",
      " [ 64 112  64 112]\n",
      " [ 80 112  80 112]\n",
      " [ 96 112  96 112]\n",
      " [112 112 112 112]\n",
      " [128 112 128 112]\n",
      " [144 112 144 112]\n",
      " [  0 128   0 128]\n",
      " [ 16 128  16 128]\n",
      " [ 32 128  32 128]\n",
      " [ 48 128  48 128]\n",
      " [ 64 128  64 128]\n",
      " [ 80 128  80 128]\n",
      " [ 96 128  96 128]\n",
      " [112 128 112 128]\n",
      " [128 128 128 128]\n",
      " [144 128 144 128]\n",
      " [  0 144   0 144]\n",
      " [ 16 144  16 144]\n",
      " [ 32 144  32 144]\n",
      " [ 48 144  48 144]\n",
      " [ 64 144  64 144]\n",
      " [ 80 144  80 144]\n",
      " [ 96 144  96 144]\n",
      " [112 144 112 144]\n",
      " [128 144 128 144]\n",
      " [144 144 144 144]], shape=(100, 4), dtype=int32)\n"
     ]
    }
   ],
   "source": [
    "# 获取每个特征点的坐标，变为double份\n",
    "shifts = tf.transpose(tf.stack([sx, sy, sx, sy]))\n",
    "print(shifts)"
   ]
  },
  {
   "cell_type": "code",
   "execution_count": 74,
   "metadata": {},
   "outputs": [
    {
     "name": "stdout",
     "output_type": "stream",
     "text": [
      "tf.Tensor(100, shape=(), dtype=int32)\n",
      "tf.Tensor(\n",
      "[[[  0   0   0   0]\n",
      "  [ 16   0  16   0]\n",
      "  [ 32   0  32   0]\n",
      "  [ 48   0  48   0]\n",
      "  [ 64   0  64   0]\n",
      "  [ 80   0  80   0]\n",
      "  [ 96   0  96   0]\n",
      "  [112   0 112   0]\n",
      "  [128   0 128   0]\n",
      "  [144   0 144   0]\n",
      "  [  0  16   0  16]\n",
      "  [ 16  16  16  16]\n",
      "  [ 32  16  32  16]\n",
      "  [ 48  16  48  16]\n",
      "  [ 64  16  64  16]\n",
      "  [ 80  16  80  16]\n",
      "  [ 96  16  96  16]\n",
      "  [112  16 112  16]\n",
      "  [128  16 128  16]\n",
      "  [144  16 144  16]\n",
      "  [  0  32   0  32]\n",
      "  [ 16  32  16  32]\n",
      "  [ 32  32  32  32]\n",
      "  [ 48  32  48  32]\n",
      "  [ 64  32  64  32]\n",
      "  [ 80  32  80  32]\n",
      "  [ 96  32  96  32]\n",
      "  [112  32 112  32]\n",
      "  [128  32 128  32]\n",
      "  [144  32 144  32]\n",
      "  [  0  48   0  48]\n",
      "  [ 16  48  16  48]\n",
      "  [ 32  48  32  48]\n",
      "  [ 48  48  48  48]\n",
      "  [ 64  48  64  48]\n",
      "  [ 80  48  80  48]\n",
      "  [ 96  48  96  48]\n",
      "  [112  48 112  48]\n",
      "  [128  48 128  48]\n",
      "  [144  48 144  48]\n",
      "  [  0  64   0  64]\n",
      "  [ 16  64  16  64]\n",
      "  [ 32  64  32  64]\n",
      "  [ 48  64  48  64]\n",
      "  [ 64  64  64  64]\n",
      "  [ 80  64  80  64]\n",
      "  [ 96  64  96  64]\n",
      "  [112  64 112  64]\n",
      "  [128  64 128  64]\n",
      "  [144  64 144  64]\n",
      "  [  0  80   0  80]\n",
      "  [ 16  80  16  80]\n",
      "  [ 32  80  32  80]\n",
      "  [ 48  80  48  80]\n",
      "  [ 64  80  64  80]\n",
      "  [ 80  80  80  80]\n",
      "  [ 96  80  96  80]\n",
      "  [112  80 112  80]\n",
      "  [128  80 128  80]\n",
      "  [144  80 144  80]\n",
      "  [  0  96   0  96]\n",
      "  [ 16  96  16  96]\n",
      "  [ 32  96  32  96]\n",
      "  [ 48  96  48  96]\n",
      "  [ 64  96  64  96]\n",
      "  [ 80  96  80  96]\n",
      "  [ 96  96  96  96]\n",
      "  [112  96 112  96]\n",
      "  [128  96 128  96]\n",
      "  [144  96 144  96]\n",
      "  [  0 112   0 112]\n",
      "  [ 16 112  16 112]\n",
      "  [ 32 112  32 112]\n",
      "  [ 48 112  48 112]\n",
      "  [ 64 112  64 112]\n",
      "  [ 80 112  80 112]\n",
      "  [ 96 112  96 112]\n",
      "  [112 112 112 112]\n",
      "  [128 112 128 112]\n",
      "  [144 112 144 112]\n",
      "  [  0 128   0 128]\n",
      "  [ 16 128  16 128]\n",
      "  [ 32 128  32 128]\n",
      "  [ 48 128  48 128]\n",
      "  [ 64 128  64 128]\n",
      "  [ 80 128  80 128]\n",
      "  [ 96 128  96 128]\n",
      "  [112 128 112 128]\n",
      "  [128 128 128 128]\n",
      "  [144 128 144 128]\n",
      "  [  0 144   0 144]\n",
      "  [ 16 144  16 144]\n",
      "  [ 32 144  32 144]\n",
      "  [ 48 144  48 144]\n",
      "  [ 64 144  64 144]\n",
      "  [ 80 144  80 144]\n",
      "  [ 96 144  96 144]\n",
      "  [112 144 112 144]\n",
      "  [128 144 128 144]\n",
      "  [144 144 144 144]]], shape=(1, 100, 4), dtype=int32)\n",
      "tf.Tensor(\n",
      "[[[  0   0   0   0]]\n",
      "\n",
      " [[ 16   0  16   0]]\n",
      "\n",
      " [[ 32   0  32   0]]\n",
      "\n",
      " [[ 48   0  48   0]]\n",
      "\n",
      " [[ 64   0  64   0]]\n",
      "\n",
      " [[ 80   0  80   0]]\n",
      "\n",
      " [[ 96   0  96   0]]\n",
      "\n",
      " [[112   0 112   0]]\n",
      "\n",
      " [[128   0 128   0]]\n",
      "\n",
      " [[144   0 144   0]]\n",
      "\n",
      " [[  0  16   0  16]]\n",
      "\n",
      " [[ 16  16  16  16]]\n",
      "\n",
      " [[ 32  16  32  16]]\n",
      "\n",
      " [[ 48  16  48  16]]\n",
      "\n",
      " [[ 64  16  64  16]]\n",
      "\n",
      " [[ 80  16  80  16]]\n",
      "\n",
      " [[ 96  16  96  16]]\n",
      "\n",
      " [[112  16 112  16]]\n",
      "\n",
      " [[128  16 128  16]]\n",
      "\n",
      " [[144  16 144  16]]\n",
      "\n",
      " [[  0  32   0  32]]\n",
      "\n",
      " [[ 16  32  16  32]]\n",
      "\n",
      " [[ 32  32  32  32]]\n",
      "\n",
      " [[ 48  32  48  32]]\n",
      "\n",
      " [[ 64  32  64  32]]\n",
      "\n",
      " [[ 80  32  80  32]]\n",
      "\n",
      " [[ 96  32  96  32]]\n",
      "\n",
      " [[112  32 112  32]]\n",
      "\n",
      " [[128  32 128  32]]\n",
      "\n",
      " [[144  32 144  32]]\n",
      "\n",
      " [[  0  48   0  48]]\n",
      "\n",
      " [[ 16  48  16  48]]\n",
      "\n",
      " [[ 32  48  32  48]]\n",
      "\n",
      " [[ 48  48  48  48]]\n",
      "\n",
      " [[ 64  48  64  48]]\n",
      "\n",
      " [[ 80  48  80  48]]\n",
      "\n",
      " [[ 96  48  96  48]]\n",
      "\n",
      " [[112  48 112  48]]\n",
      "\n",
      " [[128  48 128  48]]\n",
      "\n",
      " [[144  48 144  48]]\n",
      "\n",
      " [[  0  64   0  64]]\n",
      "\n",
      " [[ 16  64  16  64]]\n",
      "\n",
      " [[ 32  64  32  64]]\n",
      "\n",
      " [[ 48  64  48  64]]\n",
      "\n",
      " [[ 64  64  64  64]]\n",
      "\n",
      " [[ 80  64  80  64]]\n",
      "\n",
      " [[ 96  64  96  64]]\n",
      "\n",
      " [[112  64 112  64]]\n",
      "\n",
      " [[128  64 128  64]]\n",
      "\n",
      " [[144  64 144  64]]\n",
      "\n",
      " [[  0  80   0  80]]\n",
      "\n",
      " [[ 16  80  16  80]]\n",
      "\n",
      " [[ 32  80  32  80]]\n",
      "\n",
      " [[ 48  80  48  80]]\n",
      "\n",
      " [[ 64  80  64  80]]\n",
      "\n",
      " [[ 80  80  80  80]]\n",
      "\n",
      " [[ 96  80  96  80]]\n",
      "\n",
      " [[112  80 112  80]]\n",
      "\n",
      " [[128  80 128  80]]\n",
      "\n",
      " [[144  80 144  80]]\n",
      "\n",
      " [[  0  96   0  96]]\n",
      "\n",
      " [[ 16  96  16  96]]\n",
      "\n",
      " [[ 32  96  32  96]]\n",
      "\n",
      " [[ 48  96  48  96]]\n",
      "\n",
      " [[ 64  96  64  96]]\n",
      "\n",
      " [[ 80  96  80  96]]\n",
      "\n",
      " [[ 96  96  96  96]]\n",
      "\n",
      " [[112  96 112  96]]\n",
      "\n",
      " [[128  96 128  96]]\n",
      "\n",
      " [[144  96 144  96]]\n",
      "\n",
      " [[  0 112   0 112]]\n",
      "\n",
      " [[ 16 112  16 112]]\n",
      "\n",
      " [[ 32 112  32 112]]\n",
      "\n",
      " [[ 48 112  48 112]]\n",
      "\n",
      " [[ 64 112  64 112]]\n",
      "\n",
      " [[ 80 112  80 112]]\n",
      "\n",
      " [[ 96 112  96 112]]\n",
      "\n",
      " [[112 112 112 112]]\n",
      "\n",
      " [[128 112 128 112]]\n",
      "\n",
      " [[144 112 144 112]]\n",
      "\n",
      " [[  0 128   0 128]]\n",
      "\n",
      " [[ 16 128  16 128]]\n",
      "\n",
      " [[ 32 128  32 128]]\n",
      "\n",
      " [[ 48 128  48 128]]\n",
      "\n",
      " [[ 64 128  64 128]]\n",
      "\n",
      " [[ 80 128  80 128]]\n",
      "\n",
      " [[ 96 128  96 128]]\n",
      "\n",
      " [[112 128 112 128]]\n",
      "\n",
      " [[128 128 128 128]]\n",
      "\n",
      " [[144 128 144 128]]\n",
      "\n",
      " [[  0 144   0 144]]\n",
      "\n",
      " [[ 16 144  16 144]]\n",
      "\n",
      " [[ 32 144  32 144]]\n",
      "\n",
      " [[ 48 144  48 144]]\n",
      "\n",
      " [[ 64 144  64 144]]\n",
      "\n",
      " [[ 80 144  80 144]]\n",
      "\n",
      " [[ 96 144  96 144]]\n",
      "\n",
      " [[112 144 112 144]]\n",
      "\n",
      " [[128 144 128 144]]\n",
      "\n",
      " [[144 144 144 144]]], shape=(100, 1, 4), dtype=int32)\n"
     ]
    }
   ],
   "source": [
    "K = tf.multiply(width, height)\n",
    "print(K)\n",
    "print(tf.reshape(shifts, shape=[1, K, 4]))\n",
    "shifts = tf.transpose(tf.reshape(shifts, shape=[1, K, 4]), perm=(1, 0, 2))\n",
    "print(shifts)"
   ]
  },
  {
   "cell_type": "code",
   "execution_count": 75,
   "metadata": {},
   "outputs": [
    {
     "name": "stdout",
     "output_type": "stream",
     "text": [
      "[[ -84.  -40.   99.   55.]\n",
      " [-176.  -88.  191.  103.]\n",
      " [-360. -184.  375.  199.]\n",
      " [ -56.  -56.   71.   71.]\n",
      " [-120. -120.  135.  135.]\n",
      " [-248. -248.  263.  263.]\n",
      " [ -36.  -80.   51.   95.]\n",
      " [ -80. -168.   95.  183.]\n",
      " [-168. -344.  183.  359.]]\n",
      "9\n"
     ]
    }
   ],
   "source": [
    "anchors = generate_anchors(ratios=np.array(anchor_ratios), scales=np.array(anchor_scales))\n",
    "print(anchors)\n",
    "A = anchors.shape[0]\n",
    "print(A)"
   ]
  },
  {
   "cell_type": "code",
   "execution_count": 76,
   "metadata": {},
   "outputs": [
    {
     "name": "stdout",
     "output_type": "stream",
     "text": [
      "[[[ -84.  -40.   99.   55.]\n",
      "  [-176.  -88.  191.  103.]\n",
      "  [-360. -184.  375.  199.]\n",
      "  [ -56.  -56.   71.   71.]\n",
      "  [-120. -120.  135.  135.]\n",
      "  [-248. -248.  263.  263.]\n",
      "  [ -36.  -80.   51.   95.]\n",
      "  [ -80. -168.   95.  183.]\n",
      "  [-168. -344.  183.  359.]]]\n",
      "tf.Tensor(\n",
      "[[[ -84  -40   99   55]\n",
      "  [-176  -88  191  103]\n",
      "  [-360 -184  375  199]\n",
      "  [ -56  -56   71   71]\n",
      "  [-120 -120  135  135]\n",
      "  [-248 -248  263  263]\n",
      "  [ -36  -80   51   95]\n",
      "  [ -80 -168   95  183]\n",
      "  [-168 -344  183  359]]], shape=(1, 9, 4), dtype=int32)\n"
     ]
    }
   ],
   "source": [
    "print(anchors.reshape((1, A, 4)))\n",
    "# 将变量转为tensor\n",
    "anchor_constant = tf.constant(anchors.reshape((1, A, 4)), dtype=tf.int32)\n",
    "print(anchor_constant)"
   ]
  },
  {
   "cell_type": "code",
   "execution_count": 77,
   "metadata": {},
   "outputs": [
    {
     "name": "stdout",
     "output_type": "stream",
     "text": [
      "tf.Tensor(900, shape=(), dtype=int32)\n",
      "tf.Tensor(\n",
      "[[[ -84  -40   99   55]\n",
      "  [-176  -88  191  103]\n",
      "  [-360 -184  375  199]\n",
      "  ...\n",
      "  [ -36  -80   51   95]\n",
      "  [ -80 -168   95  183]\n",
      "  [-168 -344  183  359]]\n",
      "\n",
      " [[ -68  -40  115   55]\n",
      "  [-160  -88  207  103]\n",
      "  [-344 -184  391  199]\n",
      "  ...\n",
      "  [ -20  -80   67   95]\n",
      "  [ -64 -168  111  183]\n",
      "  [-152 -344  199  359]]\n",
      "\n",
      " [[ -52  -40  131   55]\n",
      "  [-144  -88  223  103]\n",
      "  [-328 -184  407  199]\n",
      "  ...\n",
      "  [  -4  -80   83   95]\n",
      "  [ -48 -168  127  183]\n",
      "  [-136 -344  215  359]]\n",
      "\n",
      " ...\n",
      "\n",
      " [[  28  104  211  199]\n",
      "  [ -64   56  303  247]\n",
      "  [-248  -40  487  343]\n",
      "  ...\n",
      "  [  76   64  163  239]\n",
      "  [  32  -24  207  327]\n",
      "  [ -56 -200  295  503]]\n",
      "\n",
      " [[  44  104  227  199]\n",
      "  [ -48   56  319  247]\n",
      "  [-232  -40  503  343]\n",
      "  ...\n",
      "  [  92   64  179  239]\n",
      "  [  48  -24  223  327]\n",
      "  [ -40 -200  311  503]]\n",
      "\n",
      " [[  60  104  243  199]\n",
      "  [ -32   56  335  247]\n",
      "  [-216  -40  519  343]\n",
      "  ...\n",
      "  [ 108   64  195  239]\n",
      "  [  64  -24  239  327]\n",
      "  [ -24 -200  327  503]]], shape=(100, 9, 4), dtype=int32)\n",
      "tf.Tensor(\n",
      "[[ -84  -40   99   55]\n",
      " [-176  -88  191  103]\n",
      " [-360 -184  375  199]\n",
      " ...\n",
      " [ 108   64  195  239]\n",
      " [  64  -24  239  327]\n",
      " [ -24 -200  327  503]], shape=(900, 4), dtype=int32)\n"
     ]
    }
   ],
   "source": [
    "length = K * A\n",
    "print(length)\n",
    "print(tf.add(anchor_constant, shifts))\n",
    "# 对锚框的坐标进行平移\n",
    "anchors_tf = tf.reshape(tf.add(anchor_constant, shifts), shape=(length, 4))\n",
    "print(anchors_tf)"
   ]
  },
  {
   "cell_type": "code",
   "execution_count": 78,
   "metadata": {},
   "outputs": [
    {
     "name": "stdout",
     "output_type": "stream",
     "text": [
      "tf.Tensor(\n",
      "[[ -84.  -40.   99.   55.]\n",
      " [-176.  -88.  191.  103.]\n",
      " [-360. -184.  375.  199.]\n",
      " ...\n",
      " [ 108.   64.  195.  239.]\n",
      " [  64.  -24.  239.  327.]\n",
      " [ -24. -200.  327.  503.]], shape=(900, 4), dtype=float32)\n"
     ]
    }
   ],
   "source": [
    "# 数据类型转换\n",
    "print(tf.cast(anchors_tf, dtype=tf.float32))"
   ]
  },
  {
   "cell_type": "code",
   "execution_count": null,
   "metadata": {},
   "outputs": [],
   "source": []
  }
 ],
 "metadata": {
  "kernelspec": {
   "display_name": "Python 3",
   "language": "python",
   "name": "python3"
  },
  "language_info": {
   "codemirror_mode": {
    "name": "ipython",
    "version": 3
   },
   "file_extension": ".py",
   "mimetype": "text/x-python",
   "name": "python",
   "nbconvert_exporter": "python",
   "pygments_lexer": "ipython3",
   "version": "3.7.3"
  }
 },
 "nbformat": 4,
 "nbformat_minor": 2
}
